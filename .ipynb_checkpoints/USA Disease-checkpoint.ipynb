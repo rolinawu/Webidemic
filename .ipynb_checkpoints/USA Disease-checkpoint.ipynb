{
 "cells": [
  {
   "cell_type": "code",
   "execution_count": 1,
   "metadata": {
    "collapsed": false
   },
   "outputs": [],
   "source": [
    "import pandas as pd\n",
    "import numpy as np\n",
    "import random \n",
    "import matplotlib.pyplot as plt\n",
    "from collections import Counter\n",
    "import math\n",
    "import plotly.plotly as py\n",
    "import plotly.graph_objs as go\n",
    "%matplotlib inline\n",
    "#import mpld3\n",
    "#mpld3.enable_notebook()"
   ]
  },
  {
   "cell_type": "code",
   "execution_count": null,
   "metadata": {
    "collapsed": true
   },
   "outputs": [],
   "source": []
  },
  {
   "cell_type": "code",
   "execution_count": 2,
   "metadata": {
    "collapsed": false
   },
   "outputs": [],
   "source": [
    "ls| grep \"epic\""
   ]
  },
  {
   "cell_type": "code",
   "execution_count": 3,
   "metadata": {
    "collapsed": true
   },
   "outputs": [],
   "source": [
    "file_name = \"epic.csv\"\n",
    "directory_under = \"\""
   ]
  },
  {
   "cell_type": "code",
   "execution_count": 4,
   "metadata": {
    "collapsed": false
   },
   "outputs": [
    {
     "ename": "IOError",
     "evalue": "File epic.csv does not exist",
     "output_type": "error",
     "traceback": [
      "\u001b[0;31m---------------------------------------------------------------------------\u001b[0m",
      "\u001b[0;31mIOError\u001b[0m                                   Traceback (most recent call last)",
      "\u001b[0;32m<ipython-input-4-0d9e44476699>\u001b[0m in \u001b[0;36m<module>\u001b[0;34m()\u001b[0m\n\u001b[0;32m----> 1\u001b[0;31m \u001b[0mepic\u001b[0m \u001b[0;34m=\u001b[0m \u001b[0mpd\u001b[0m\u001b[0;34m.\u001b[0m\u001b[0mread_csv\u001b[0m\u001b[0;34m(\u001b[0m\u001b[0mfile_name\u001b[0m\u001b[0;34m)\u001b[0m\u001b[0;34m\u001b[0m\u001b[0m\n\u001b[0m",
      "\u001b[0;32m/Users/Rolina/anaconda/lib/python2.7/site-packages/pandas/io/parsers.pyc\u001b[0m in \u001b[0;36mparser_f\u001b[0;34m(filepath_or_buffer, sep, delimiter, header, names, index_col, usecols, squeeze, prefix, mangle_dupe_cols, dtype, engine, converters, true_values, false_values, skipinitialspace, skiprows, skipfooter, nrows, na_values, keep_default_na, na_filter, verbose, skip_blank_lines, parse_dates, infer_datetime_format, keep_date_col, date_parser, dayfirst, iterator, chunksize, compression, thousands, decimal, lineterminator, quotechar, quoting, escapechar, comment, encoding, dialect, tupleize_cols, error_bad_lines, warn_bad_lines, skip_footer, doublequote, delim_whitespace, as_recarray, compact_ints, use_unsigned, low_memory, buffer_lines, memory_map, float_precision)\u001b[0m\n\u001b[1;32m    527\u001b[0m                     skip_blank_lines=skip_blank_lines)\n\u001b[1;32m    528\u001b[0m \u001b[0;34m\u001b[0m\u001b[0m\n\u001b[0;32m--> 529\u001b[0;31m         \u001b[0;32mreturn\u001b[0m \u001b[0m_read\u001b[0m\u001b[0;34m(\u001b[0m\u001b[0mfilepath_or_buffer\u001b[0m\u001b[0;34m,\u001b[0m \u001b[0mkwds\u001b[0m\u001b[0;34m)\u001b[0m\u001b[0;34m\u001b[0m\u001b[0m\n\u001b[0m\u001b[1;32m    530\u001b[0m \u001b[0;34m\u001b[0m\u001b[0m\n\u001b[1;32m    531\u001b[0m     \u001b[0mparser_f\u001b[0m\u001b[0;34m.\u001b[0m\u001b[0m__name__\u001b[0m \u001b[0;34m=\u001b[0m \u001b[0mname\u001b[0m\u001b[0;34m\u001b[0m\u001b[0m\n",
      "\u001b[0;32m/Users/Rolina/anaconda/lib/python2.7/site-packages/pandas/io/parsers.pyc\u001b[0m in \u001b[0;36m_read\u001b[0;34m(filepath_or_buffer, kwds)\u001b[0m\n\u001b[1;32m    293\u001b[0m \u001b[0;34m\u001b[0m\u001b[0m\n\u001b[1;32m    294\u001b[0m     \u001b[0;31m# Create the parser.\u001b[0m\u001b[0;34m\u001b[0m\u001b[0;34m\u001b[0m\u001b[0m\n\u001b[0;32m--> 295\u001b[0;31m     \u001b[0mparser\u001b[0m \u001b[0;34m=\u001b[0m \u001b[0mTextFileReader\u001b[0m\u001b[0;34m(\u001b[0m\u001b[0mfilepath_or_buffer\u001b[0m\u001b[0;34m,\u001b[0m \u001b[0;34m**\u001b[0m\u001b[0mkwds\u001b[0m\u001b[0;34m)\u001b[0m\u001b[0;34m\u001b[0m\u001b[0m\n\u001b[0m\u001b[1;32m    296\u001b[0m \u001b[0;34m\u001b[0m\u001b[0m\n\u001b[1;32m    297\u001b[0m     \u001b[0;32mif\u001b[0m \u001b[0;34m(\u001b[0m\u001b[0mnrows\u001b[0m \u001b[0;32mis\u001b[0m \u001b[0;32mnot\u001b[0m \u001b[0mNone\u001b[0m\u001b[0;34m)\u001b[0m \u001b[0;32mand\u001b[0m \u001b[0;34m(\u001b[0m\u001b[0mchunksize\u001b[0m \u001b[0;32mis\u001b[0m \u001b[0;32mnot\u001b[0m \u001b[0mNone\u001b[0m\u001b[0;34m)\u001b[0m\u001b[0;34m:\u001b[0m\u001b[0;34m\u001b[0m\u001b[0m\n",
      "\u001b[0;32m/Users/Rolina/anaconda/lib/python2.7/site-packages/pandas/io/parsers.pyc\u001b[0m in \u001b[0;36m__init__\u001b[0;34m(self, f, engine, **kwds)\u001b[0m\n\u001b[1;32m    610\u001b[0m             \u001b[0mself\u001b[0m\u001b[0;34m.\u001b[0m\u001b[0moptions\u001b[0m\u001b[0;34m[\u001b[0m\u001b[0;34m'has_index_names'\u001b[0m\u001b[0;34m]\u001b[0m \u001b[0;34m=\u001b[0m \u001b[0mkwds\u001b[0m\u001b[0;34m[\u001b[0m\u001b[0;34m'has_index_names'\u001b[0m\u001b[0;34m]\u001b[0m\u001b[0;34m\u001b[0m\u001b[0m\n\u001b[1;32m    611\u001b[0m \u001b[0;34m\u001b[0m\u001b[0m\n\u001b[0;32m--> 612\u001b[0;31m         \u001b[0mself\u001b[0m\u001b[0;34m.\u001b[0m\u001b[0m_make_engine\u001b[0m\u001b[0;34m(\u001b[0m\u001b[0mself\u001b[0m\u001b[0;34m.\u001b[0m\u001b[0mengine\u001b[0m\u001b[0;34m)\u001b[0m\u001b[0;34m\u001b[0m\u001b[0m\n\u001b[0m\u001b[1;32m    613\u001b[0m \u001b[0;34m\u001b[0m\u001b[0m\n\u001b[1;32m    614\u001b[0m     \u001b[0;32mdef\u001b[0m \u001b[0m_get_options_with_defaults\u001b[0m\u001b[0;34m(\u001b[0m\u001b[0mself\u001b[0m\u001b[0;34m,\u001b[0m \u001b[0mengine\u001b[0m\u001b[0;34m)\u001b[0m\u001b[0;34m:\u001b[0m\u001b[0;34m\u001b[0m\u001b[0m\n",
      "\u001b[0;32m/Users/Rolina/anaconda/lib/python2.7/site-packages/pandas/io/parsers.pyc\u001b[0m in \u001b[0;36m_make_engine\u001b[0;34m(self, engine)\u001b[0m\n\u001b[1;32m    745\u001b[0m     \u001b[0;32mdef\u001b[0m \u001b[0m_make_engine\u001b[0m\u001b[0;34m(\u001b[0m\u001b[0mself\u001b[0m\u001b[0;34m,\u001b[0m \u001b[0mengine\u001b[0m\u001b[0;34m=\u001b[0m\u001b[0;34m'c'\u001b[0m\u001b[0;34m)\u001b[0m\u001b[0;34m:\u001b[0m\u001b[0;34m\u001b[0m\u001b[0m\n\u001b[1;32m    746\u001b[0m         \u001b[0;32mif\u001b[0m \u001b[0mengine\u001b[0m \u001b[0;34m==\u001b[0m \u001b[0;34m'c'\u001b[0m\u001b[0;34m:\u001b[0m\u001b[0;34m\u001b[0m\u001b[0m\n\u001b[0;32m--> 747\u001b[0;31m             \u001b[0mself\u001b[0m\u001b[0;34m.\u001b[0m\u001b[0m_engine\u001b[0m \u001b[0;34m=\u001b[0m \u001b[0mCParserWrapper\u001b[0m\u001b[0;34m(\u001b[0m\u001b[0mself\u001b[0m\u001b[0;34m.\u001b[0m\u001b[0mf\u001b[0m\u001b[0;34m,\u001b[0m \u001b[0;34m**\u001b[0m\u001b[0mself\u001b[0m\u001b[0;34m.\u001b[0m\u001b[0moptions\u001b[0m\u001b[0;34m)\u001b[0m\u001b[0;34m\u001b[0m\u001b[0m\n\u001b[0m\u001b[1;32m    748\u001b[0m         \u001b[0;32melse\u001b[0m\u001b[0;34m:\u001b[0m\u001b[0;34m\u001b[0m\u001b[0m\n\u001b[1;32m    749\u001b[0m             \u001b[0;32mif\u001b[0m \u001b[0mengine\u001b[0m \u001b[0;34m==\u001b[0m \u001b[0;34m'python'\u001b[0m\u001b[0;34m:\u001b[0m\u001b[0;34m\u001b[0m\u001b[0m\n",
      "\u001b[0;32m/Users/Rolina/anaconda/lib/python2.7/site-packages/pandas/io/parsers.pyc\u001b[0m in \u001b[0;36m__init__\u001b[0;34m(self, src, **kwds)\u001b[0m\n\u001b[1;32m   1117\u001b[0m         \u001b[0mkwds\u001b[0m\u001b[0;34m[\u001b[0m\u001b[0;34m'allow_leading_cols'\u001b[0m\u001b[0;34m]\u001b[0m \u001b[0;34m=\u001b[0m \u001b[0mself\u001b[0m\u001b[0;34m.\u001b[0m\u001b[0mindex_col\u001b[0m \u001b[0;32mis\u001b[0m \u001b[0;32mnot\u001b[0m \u001b[0mFalse\u001b[0m\u001b[0;34m\u001b[0m\u001b[0m\n\u001b[1;32m   1118\u001b[0m \u001b[0;34m\u001b[0m\u001b[0m\n\u001b[0;32m-> 1119\u001b[0;31m         \u001b[0mself\u001b[0m\u001b[0;34m.\u001b[0m\u001b[0m_reader\u001b[0m \u001b[0;34m=\u001b[0m \u001b[0m_parser\u001b[0m\u001b[0;34m.\u001b[0m\u001b[0mTextReader\u001b[0m\u001b[0;34m(\u001b[0m\u001b[0msrc\u001b[0m\u001b[0;34m,\u001b[0m \u001b[0;34m**\u001b[0m\u001b[0mkwds\u001b[0m\u001b[0;34m)\u001b[0m\u001b[0;34m\u001b[0m\u001b[0m\n\u001b[0m\u001b[1;32m   1120\u001b[0m \u001b[0;34m\u001b[0m\u001b[0m\n\u001b[1;32m   1121\u001b[0m         \u001b[0;31m# XXX\u001b[0m\u001b[0;34m\u001b[0m\u001b[0;34m\u001b[0m\u001b[0m\n",
      "\u001b[0;32mpandas/parser.pyx\u001b[0m in \u001b[0;36mpandas.parser.TextReader.__cinit__ (pandas/parser.c:3246)\u001b[0;34m()\u001b[0m\n",
      "\u001b[0;32mpandas/parser.pyx\u001b[0m in \u001b[0;36mpandas.parser.TextReader._setup_parser_source (pandas/parser.c:6111)\u001b[0;34m()\u001b[0m\n",
      "\u001b[0;31mIOError\u001b[0m: File epic.csv does not exist"
     ]
    }
   ],
   "source": [
    "epic = pd.read_csv(file_name)"
   ]
  },
  {
   "cell_type": "code",
   "execution_count": null,
   "metadata": {
    "collapsed": false
   },
   "outputs": [],
   "source": [
    "epic.head()"
   ]
  },
  {
   "cell_type": "code",
   "execution_count": null,
   "metadata": {
    "collapsed": true
   },
   "outputs": [],
   "source": [
    "epic.loc[random.sample(range(len(epic)), 10)]"
   ]
  },
  {
   "cell_type": "code",
   "execution_count": 169,
   "metadata": {
    "collapsed": false
   },
   "outputs": [
    {
     "data": {
      "text/plain": [
       "759467"
      ]
     },
     "execution_count": 169,
     "metadata": {},
     "output_type": "execute_result"
    }
   ],
   "source": [
    "len(epic)"
   ]
  },
  {
   "cell_type": "code",
   "execution_count": 170,
   "metadata": {
    "collapsed": false
   },
   "outputs": [
    {
     "name": "stdout",
     "output_type": "stream",
     "text": [
      "instances with incidence_per_0.1mill above 100: 192\n",
      "This means these disease can happen to you in 0.001% chance\n"
     ]
    }
   ],
   "source": [
    "inci_thres = 100;\n",
    "print(\"instances with incidence_per_0.1mill above %d: %d\"%(inci_thres, len(filter(lambda x: x > inci_thres,epic[\"incidence_per_100000\"].tolist()))))\n",
    "print(\"This means these disease can happen to you in %0.3f%% chance\"%(inci_thres/100000.))"
   ]
  },
  {
   "cell_type": "code",
   "execution_count": 171,
   "metadata": {
    "collapsed": false
   },
   "outputs": [
    {
     "name": "stdout",
     "output_type": "stream",
     "text": [
      "Diseases explored: ['PERTUSSIS' 'POLIO' 'HEPATITIS A' 'MEASLES' 'RUBELLA' 'SMALLPOX' 'MUMPS'\n",
      " 'DIPHTHERIA']\n",
      "States explored: 51\n"
     ]
    }
   ],
   "source": [
    "print \"Diseases explored:\", epic[\"disease\"].unique()\n",
    "print(\"States explored: %d\" %(len(epic[\"state\"].unique())))\n"
   ]
  },
  {
   "cell_type": "code",
   "execution_count": 189,
   "metadata": {
    "collapsed": false
   },
   "outputs": [
    {
     "name": "stdout",
     "output_type": "stream",
     "text": [
      "Year Range: 1916 - 2011, 51 years in between\n"
     ]
    }
   ],
   "source": [
    "tmp_epic_index = epic.sort_values(\"epi_week\", ascending=True).index\n",
    "min_year, max_year = epic.loc[[tmp_epic_index[0], tmp_epic_index[-1]]][\"epi_week\"]\n",
    "print(\"Year Range: %d - %d, %d years in between\"%(min_year/100,max_year/100, max_year%100-min_year%100))"
   ]
  },
  {
   "cell_type": "code",
   "execution_count": 173,
   "metadata": {
    "collapsed": false
   },
   "outputs": [
    {
     "data": {
      "text/html": [
       "<div>\n",
       "<table border=\"1\" class=\"dataframe\">\n",
       "  <thead>\n",
       "    <tr style=\"text-align: right;\">\n",
       "      <th></th>\n",
       "      <th>epi_week</th>\n",
       "      <th>state</th>\n",
       "      <th>loc</th>\n",
       "      <th>loc_type</th>\n",
       "      <th>disease</th>\n",
       "      <th>cases</th>\n",
       "      <th>incidence_per_100000</th>\n",
       "    </tr>\n",
       "  </thead>\n",
       "  <tbody>\n",
       "    <tr>\n",
       "      <th>185770</th>\n",
       "      <td>198328</td>\n",
       "      <td>FL</td>\n",
       "      <td>FLORIDA</td>\n",
       "      <td>STATE</td>\n",
       "      <td>MEASLES</td>\n",
       "      <td>0</td>\n",
       "      <td>0.00</td>\n",
       "    </tr>\n",
       "    <tr>\n",
       "      <th>240064</th>\n",
       "      <td>192247</td>\n",
       "      <td>NC</td>\n",
       "      <td>RALEIGH</td>\n",
       "      <td>CITY</td>\n",
       "      <td>DIPHTHERIA</td>\n",
       "      <td>2</td>\n",
       "      <td>7.41</td>\n",
       "    </tr>\n",
       "    <tr>\n",
       "      <th>250799</th>\n",
       "      <td>199033</td>\n",
       "      <td>VT</td>\n",
       "      <td>VERMONT</td>\n",
       "      <td>STATE</td>\n",
       "      <td>HEPATITIS A</td>\n",
       "      <td>0</td>\n",
       "      <td>0.00</td>\n",
       "    </tr>\n",
       "    <tr>\n",
       "      <th>468110</th>\n",
       "      <td>199149</td>\n",
       "      <td>MN</td>\n",
       "      <td>MINNESOTA</td>\n",
       "      <td>STATE</td>\n",
       "      <td>RUBELLA</td>\n",
       "      <td>0</td>\n",
       "      <td>0.00</td>\n",
       "    </tr>\n",
       "    <tr>\n",
       "      <th>653309</th>\n",
       "      <td>196709</td>\n",
       "      <td>PA</td>\n",
       "      <td>PENNSYLVANIA</td>\n",
       "      <td>STATE</td>\n",
       "      <td>RUBELLA</td>\n",
       "      <td>1</td>\n",
       "      <td>0.01</td>\n",
       "    </tr>\n",
       "    <tr>\n",
       "      <th>213932</th>\n",
       "      <td>195601</td>\n",
       "      <td>IN</td>\n",
       "      <td>INDIANA</td>\n",
       "      <td>STATE</td>\n",
       "      <td>POLIO</td>\n",
       "      <td>1</td>\n",
       "      <td>0.02</td>\n",
       "    </tr>\n",
       "    <tr>\n",
       "      <th>439524</th>\n",
       "      <td>192515</td>\n",
       "      <td>WV</td>\n",
       "      <td>WHEELING</td>\n",
       "      <td>CITY</td>\n",
       "      <td>DIPHTHERIA</td>\n",
       "      <td>0</td>\n",
       "      <td>0.00</td>\n",
       "    </tr>\n",
       "    <tr>\n",
       "      <th>456397</th>\n",
       "      <td>198023</td>\n",
       "      <td>LA</td>\n",
       "      <td>LOUISIANA</td>\n",
       "      <td>STATE</td>\n",
       "      <td>HEPATITIS A</td>\n",
       "      <td>1</td>\n",
       "      <td>0.02</td>\n",
       "    </tr>\n",
       "    <tr>\n",
       "      <th>632637</th>\n",
       "      <td>193929</td>\n",
       "      <td>MA</td>\n",
       "      <td>SPRINGFIELD</td>\n",
       "      <td>CITY</td>\n",
       "      <td>DIPHTHERIA</td>\n",
       "      <td>0</td>\n",
       "      <td>0.00</td>\n",
       "    </tr>\n",
       "    <tr>\n",
       "      <th>569345</th>\n",
       "      <td>197751</td>\n",
       "      <td>NM</td>\n",
       "      <td>NEW MEXICO</td>\n",
       "      <td>STATE</td>\n",
       "      <td>HEPATITIS A</td>\n",
       "      <td>12</td>\n",
       "      <td>0.97</td>\n",
       "    </tr>\n",
       "  </tbody>\n",
       "</table>\n",
       "</div>"
      ],
      "text/plain": [
       "        epi_week state           loc loc_type      disease cases  \\\n",
       "185770    198328    FL       FLORIDA    STATE      MEASLES     0   \n",
       "240064    192247    NC       RALEIGH     CITY   DIPHTHERIA     2   \n",
       "250799    199033    VT       VERMONT    STATE  HEPATITIS A     0   \n",
       "468110    199149    MN     MINNESOTA    STATE      RUBELLA     0   \n",
       "653309    196709    PA  PENNSYLVANIA    STATE      RUBELLA     1   \n",
       "213932    195601    IN       INDIANA    STATE        POLIO     1   \n",
       "439524    192515    WV      WHEELING     CITY   DIPHTHERIA     0   \n",
       "456397    198023    LA     LOUISIANA    STATE  HEPATITIS A     1   \n",
       "632637    193929    MA   SPRINGFIELD     CITY   DIPHTHERIA     0   \n",
       "569345    197751    NM    NEW MEXICO    STATE  HEPATITIS A    12   \n",
       "\n",
       "        incidence_per_100000  \n",
       "185770                  0.00  \n",
       "240064                  7.41  \n",
       "250799                  0.00  \n",
       "468110                  0.00  \n",
       "653309                  0.01  \n",
       "213932                  0.02  \n",
       "439524                  0.00  \n",
       "456397                  0.02  \n",
       "632637                  0.00  \n",
       "569345                  0.97  "
      ]
     },
     "execution_count": 173,
     "metadata": {},
     "output_type": "execute_result"
    }
   ],
   "source": [
    "# Select 10 random rows for inspection\n",
    "epic.loc[random.sample(range(len(epic)), 10)]"
   ]
  },
  {
   "cell_type": "code",
   "execution_count": 174,
   "metadata": {
    "collapsed": false
   },
   "outputs": [],
   "source": [
    "# modify cases to change them to an integer instead of a string\n",
    "epic[\"cases\"] = map(lambda x: int(x) if x != '\\\\N' else -1, epic[\"cases\"])\n",
    "epic[\"year\"] = map(lambda x: math.floor(x/100), epic[\"epi_week\"])"
   ]
  },
  {
   "cell_type": "code",
   "execution_count": 175,
   "metadata": {
    "collapsed": false
   },
   "outputs": [],
   "source": [
    "epic[\"index\"] = epic.index"
   ]
  },
  {
   "cell_type": "code",
   "execution_count": 176,
   "metadata": {
    "collapsed": false
   },
   "outputs": [],
   "source": [
    "data_by_disease = pd.DataFrame()\n",
    "data_by_disease[\"incidence_per_100000_mean\"] = epic.groupby([\"disease\"])[\"incidence_per_100000\"].mean()\n",
    "data_by_disease[\"incidence_per_100000_median\"] = epic.groupby([\"disease\"])[\"incidence_per_100000\"].median()\n",
    "data_by_disease[\"total_cases\"] =epic.groupby([\"disease\"])[\"cases\"].sum()"
   ]
  },
  {
   "cell_type": "code",
   "execution_count": 177,
   "metadata": {
    "collapsed": false
   },
   "outputs": [
    {
     "data": {
      "text/html": [
       "<div>\n",
       "<table border=\"1\" class=\"dataframe\">\n",
       "  <thead>\n",
       "    <tr style=\"text-align: right;\">\n",
       "      <th></th>\n",
       "      <th>incidence_per_100000_mean</th>\n",
       "      <th>incidence_per_100000_median</th>\n",
       "      <th>total_cases</th>\n",
       "    </tr>\n",
       "    <tr>\n",
       "      <th>disease</th>\n",
       "      <th></th>\n",
       "      <th></th>\n",
       "      <th></th>\n",
       "    </tr>\n",
       "  </thead>\n",
       "  <tbody>\n",
       "    <tr>\n",
       "      <th>DIPHTHERIA</th>\n",
       "      <td>1.786068</td>\n",
       "      <td>0.31</td>\n",
       "      <td>901240</td>\n",
       "    </tr>\n",
       "    <tr>\n",
       "      <th>HEPATITIS A</th>\n",
       "      <td>0.244699</td>\n",
       "      <td>0.11</td>\n",
       "      <td>976362</td>\n",
       "    </tr>\n",
       "    <tr>\n",
       "      <th>MEASLES</th>\n",
       "      <td>4.445870</td>\n",
       "      <td>0.53</td>\n",
       "      <td>18670998</td>\n",
       "    </tr>\n",
       "    <tr>\n",
       "      <th>MUMPS</th>\n",
       "      <td>0.346716</td>\n",
       "      <td>0.02</td>\n",
       "      <td>832110</td>\n",
       "    </tr>\n",
       "    <tr>\n",
       "      <th>PERTUSSIS</th>\n",
       "      <td>0.769807</td>\n",
       "      <td>0.07</td>\n",
       "      <td>2329020</td>\n",
       "    </tr>\n",
       "    <tr>\n",
       "      <th>POLIO</th>\n",
       "      <td>0.217488</td>\n",
       "      <td>0.03</td>\n",
       "      <td>500762</td>\n",
       "    </tr>\n",
       "    <tr>\n",
       "      <th>RUBELLA</th>\n",
       "      <td>0.220472</td>\n",
       "      <td>0.00</td>\n",
       "      <td>434966</td>\n",
       "    </tr>\n",
       "    <tr>\n",
       "      <th>SMALLPOX</th>\n",
       "      <td>0.249108</td>\n",
       "      <td>0.00</td>\n",
       "      <td>232828</td>\n",
       "    </tr>\n",
       "  </tbody>\n",
       "</table>\n",
       "</div>"
      ],
      "text/plain": [
       "             incidence_per_100000_mean  incidence_per_100000_median  \\\n",
       "disease                                                               \n",
       "DIPHTHERIA                    1.786068                         0.31   \n",
       "HEPATITIS A                   0.244699                         0.11   \n",
       "MEASLES                       4.445870                         0.53   \n",
       "MUMPS                         0.346716                         0.02   \n",
       "PERTUSSIS                     0.769807                         0.07   \n",
       "POLIO                         0.217488                         0.03   \n",
       "RUBELLA                       0.220472                         0.00   \n",
       "SMALLPOX                      0.249108                         0.00   \n",
       "\n",
       "             total_cases  \n",
       "disease                   \n",
       "DIPHTHERIA        901240  \n",
       "HEPATITIS A       976362  \n",
       "MEASLES         18670998  \n",
       "MUMPS             832110  \n",
       "PERTUSSIS        2329020  \n",
       "POLIO             500762  \n",
       "RUBELLA           434966  \n",
       "SMALLPOX          232828  "
      ]
     },
     "execution_count": 177,
     "metadata": {},
     "output_type": "execute_result"
    }
   ],
   "source": [
    "data_by_disease"
   ]
  },
  {
   "cell_type": "code",
   "execution_count": 178,
   "metadata": {
    "collapsed": false
   },
   "outputs": [
    {
     "data": {
      "image/png": "[encoded data removed]",
      "text/plain": [
       "<matplotlib.figure.Figure at 0x102a083d0>"
      ]
     },
     "metadata": {},
     "output_type": "display_data"
    }
   ],
   "source": [
    "from matplotlib.font_manager import FontProperties\n",
    "fig = plt.figure(figsize=(10,10))\n",
    "ax = fig.add_subplot(111, title=\"Year v.s. Cases\")\n",
    "color_list = [\"Red\",\"Blue\",\"Orange\",\"Yellow\",\"Green\",\"Pink\",\"Purple\",\"Cyan\"]\n",
    "for dis, color in zip(epic[\"disease\"].unique(), color_list):\n",
    "    epic.groupby([\"disease\"]).get_group(dis).plot.scatter(x='year', y='cases', color=color, label=dis, ax=ax);\n",
    "    box = ax.get_position()\n",
    "\n",
    "ax.set_position([box.x0, box.y0 + box.height * 0.1, box.width, box.height * 0.9])\n",
    "ax.legend(loc='upper center', bbox_to_anchor=(0.5, -0.05), fancybox=True, shadow=True, ncol=5)\n",
    "plt.show()"
   ]
  },
  {
   "cell_type": "markdown",
   "metadata": {
    "collapsed": false
   },
   "source": [
    "fig = plt.figure(figsize=(10,10))\n",
    "ycax = fig.add_subplot(111, title=\"Year v.s. Cases\")\n",
    "epic.plot.scatter(x=\"year\" , y =\"cases\")"
   ]
  },
  {
   "cell_type": "code",
   "execution_count": 63,
   "metadata": {
    "collapsed": false
   },
   "outputs": [
    {
     "data": {
      "text/plain": [
       "array(['IOWA', 'LYNN', 'OHIO', 'UTAH', 'BARRE', 'BOISE', 'FARGO', 'FLINT',\n",
       "       'IDAHO', 'MAINE', 'MIAMI', 'OMAHA', 'TAMPA', 'TEXAS', 'ALASKA',\n",
       "       'BOSTON', 'CAMDEN', 'DALLAS', 'DENVER', 'DULUTH', 'HAWAII',\n",
       "       'HELENA', 'KANSAS', 'LOWELL', 'MOBILE', 'NEVADA', 'NEWARK',\n",
       "       'OREGON', 'PUEBLO', 'RACINE', 'TACOMA', 'TOLEDO', 'TOPEKA',\n",
       "       'ALABAMA', 'ARIZONA', 'ATLANTA', 'BUFFALO', 'CHICAGO', 'CONCORD',\n",
       "       'DETROIT', 'FLORIDA', 'GEORGIA', 'HOUSTON', 'INDIANA', 'KENOSHA',\n",
       "       'MADISON', 'MEMPHIS', 'MONTANA', 'NORFOLK', 'RALEIGH', 'READING',\n",
       "       'ROANOKE', 'SEATTLE', 'SPOKANE', 'ST PAUL', 'TRENTON', 'VERMONT',\n",
       "       'WICHITA', 'WYOMING', 'ABERDEEN', 'ARKANSAS', 'BILLINGS',\n",
       "       'COLORADO', 'COLUMBIA', 'COLUMBUS', 'DELAWARE', 'HARTFORD',\n",
       "       'ILLINOIS', 'KENTUCKY', 'MARYLAND', 'MICHIGAN', 'MISSOULA',\n",
       "       'MISSOURI', 'NEBRASKA', 'NEW YORK', 'OKLAHOMA', 'PORTLAND',\n",
       "       'RICHMOND', 'SAVANNAH', 'SCRANTON', 'ST LOUIS', 'SUPERIOR',\n",
       "       'SYRACUSE', 'VIRGINIA', 'WATERLOO', 'WHEELING', 'BALTIMORE',\n",
       "       'BRUNSWICK', 'CAMBRIDGE', 'CLEVELAND', 'COVINGTON', 'DAVENPORT',\n",
       "       'FREDERICK', 'GALVESTON', 'LEXINGTON', 'LOUISIANA', 'LYNCHBURG',\n",
       "       'MILWAUKEE', 'MINNESOTA', 'NASHVILLE', 'NEW HAVEN', 'PAWTUCKET',\n",
       "       'ROCHESTER', 'ST JOSEPH', 'TENNESSEE', 'WISCONSIN', 'WORCESTER',\n",
       "       'BIRMINGHAM', 'BRIDGEPORT', 'BURLINGTON', 'CALIFORNIA',\n",
       "       'CHARLESTON', 'CINCINNATI', 'CUMBERLAND', 'DES MOINES',\n",
       "       'FALL RIVER', 'FORT SMITH', 'FORT WAYNE', 'FORT WORTH',\n",
       "       'GREENVILLE', 'HUNTINGTON', 'LOUISVILLE', 'MANCHESTER',\n",
       "       'MONTGOMERY', 'NEW JERSEY', 'NEW MEXICO', 'PITTSBURGH',\n",
       "       'PROVIDENCE', 'SACRAMENTO', 'SHREVEPORT', 'SIOUX CITY',\n",
       "       'SOUTH BEND', 'WASHINGTON', 'WILMINGTON', 'ALBUQUERQUE',\n",
       "       'CONNECTICUT', 'GRAND FORKS', 'GREAT FALLS', 'KANSAS CITY',\n",
       "       'LITTLE ROCK', 'LOS ANGELES', 'MINNEAPOLIS', 'MISSISSIPPI',\n",
       "       'NEW ORLEANS', 'SAN ANTONIO', 'SIOUX FALLS', 'SPRINGFIELD',\n",
       "       'TERRE HAUTE', 'GRAND RAPIDS', 'INDIANAPOLIS', 'NORTH DAKOTA',\n",
       "       'PENNSYLVANIA', 'PHILADELPHIA', 'RHODE ISLAND', 'SOUTH DAKOTA',\n",
       "       'WILKES-BARRE', 'MASSACHUSETTS', 'NEW HAMPSHIRE', 'OKLAHOMA CITY',\n",
       "       'SAN FRANCISCO', 'WEST VIRGINIA', 'WINSTON-SALEM', 'NORTH CAROLINA',\n",
       "       'SALT LAKE CITY', 'SOUTH CAROLINA', 'DISTRICT OF COLUMBIA'], dtype=object)"
      ]
     },
     "execution_count": 63,
     "metadata": {},
     "output_type": "execute_result"
    }
   ],
   "source": [
    "epic[\"loc\"].unique()"
   ]
  },
  {
   "cell_type": "code",
   "execution_count": 180,
   "metadata": {
    "collapsed": false
   },
   "outputs": [],
   "source": [
    "#Sample Data\n",
    "# Data between 1955 - 1965\n",
    "start_year = 1910\n",
    "end_year = 2016\n",
    "ind_year_list = epic.sort_values(\"epi_week\", ascending = False).filter(items=['index','year']).values.tolist()\n",
    "Sample_Data_ind_year = filter(lambda x: x[1] > start_year and x[1] < end_year, ind_year_list)\n",
    "Sample_Data_ind = map(lambda x: x[0],Sample_Data_ind_year)"
   ]
  },
  {
   "cell_type": "code",
   "execution_count": 181,
   "metadata": {
    "collapsed": false
   },
   "outputs": [
    {
     "name": "stdout",
     "output_type": "stream",
     "text": [
      "759467 of instances before grouping.\n"
     ]
    },
    {
     "data": {
      "text/html": [
       "<div>\n",
       "<table border=\"1\" class=\"dataframe\">\n",
       "  <thead>\n",
       "    <tr style=\"text-align: right;\">\n",
       "      <th></th>\n",
       "      <th>state</th>\n",
       "      <th>loc</th>\n",
       "      <th>disease</th>\n",
       "      <th>cases</th>\n",
       "      <th>year</th>\n",
       "      <th>index</th>\n",
       "    </tr>\n",
       "  </thead>\n",
       "  <tbody>\n",
       "    <tr>\n",
       "      <th>615370.0</th>\n",
       "      <td>CA</td>\n",
       "      <td>LOS ANGELES</td>\n",
       "      <td>DIPHTHERIA</td>\n",
       "      <td>8</td>\n",
       "      <td>1916.0</td>\n",
       "      <td>615370</td>\n",
       "    </tr>\n",
       "    <tr>\n",
       "      <th>12349.0</th>\n",
       "      <td>MA</td>\n",
       "      <td>LYNN</td>\n",
       "      <td>DIPHTHERIA</td>\n",
       "      <td>1</td>\n",
       "      <td>1916.0</td>\n",
       "      <td>12349</td>\n",
       "    </tr>\n",
       "    <tr>\n",
       "      <th>130553.0</th>\n",
       "      <td>NJ</td>\n",
       "      <td>NEWARK</td>\n",
       "      <td>DIPHTHERIA</td>\n",
       "      <td>7</td>\n",
       "      <td>1916.0</td>\n",
       "      <td>130553</td>\n",
       "    </tr>\n",
       "    <tr>\n",
       "      <th>238472.0</th>\n",
       "      <td>VA</td>\n",
       "      <td>NORFOLK</td>\n",
       "      <td>DIPHTHERIA</td>\n",
       "      <td>1</td>\n",
       "      <td>1916.0</td>\n",
       "      <td>238472</td>\n",
       "    </tr>\n",
       "    <tr>\n",
       "      <th>418557.0</th>\n",
       "      <td>VA</td>\n",
       "      <td>RICHMOND</td>\n",
       "      <td>DIPHTHERIA</td>\n",
       "      <td>3</td>\n",
       "      <td>1916.0</td>\n",
       "      <td>418557</td>\n",
       "    </tr>\n",
       "  </tbody>\n",
       "</table>\n",
       "</div>"
      ],
      "text/plain": [
       "         state          loc     disease  cases    year   index\n",
       "615370.0    CA  LOS ANGELES  DIPHTHERIA      8  1916.0  615370\n",
       "12349.0     MA         LYNN  DIPHTHERIA      1  1916.0   12349\n",
       "130553.0    NJ       NEWARK  DIPHTHERIA      7  1916.0  130553\n",
       "238472.0    VA      NORFOLK  DIPHTHERIA      1  1916.0  238472\n",
       "418557.0    VA     RICHMOND  DIPHTHERIA      3  1916.0  418557"
      ]
     },
     "execution_count": 181,
     "metadata": {},
     "output_type": "execute_result"
    }
   ],
   "source": [
    "print(\"%d of instances before grouping.\" %(len(epic.loc[Sample_Data_ind].filter([\"state\",\"loc\",\"disease\",\"cases\",\"year\",\"index\"]).sort_values(\"year\"))))\n",
    "#Extra Methods: drop_duplicates()\n",
    "\n",
    "epic.loc[Sample_Data_ind].filter([\"state\",\"loc\",\"disease\",\"cases\",\"year\",\"index\"]).sort_values(\"year\").head()"
   ]
  },
  {
   "cell_type": "code",
   "execution_count": 182,
   "metadata": {
    "collapsed": false
   },
   "outputs": [
    {
     "name": "stdout",
     "output_type": "stream",
     "text": [
      "17734 of instances after grouping.\n"
     ]
    },
    {
     "data": {
      "text/plain": [
       "state  loc     year    disease  \n",
       "AK     ALASKA  1950.0  PERTUSSIS      86\n",
       "                       POLIO          61\n",
       "               1951.0  PERTUSSIS      78\n",
       "                       POLIO          32\n",
       "               1954.0  MEASLES      1487\n",
       "Name: cases, dtype: int64"
      ]
     },
     "execution_count": 182,
     "metadata": {},
     "output_type": "execute_result"
    }
   ],
   "source": [
    "print(\"%d of instances after grouping.\" %(len(epic.loc[Sample_Data_ind].groupby([\"state\",\"loc\",\"year\",\"disease\"])[\"cases\"].sum())))\n",
    "\n",
    "Sample_Data = epic.loc[Sample_Data_ind].groupby([\"state\",\"loc\",\"year\",\"disease\"])[\"cases\"].sum()\n",
    "Sample_Data.head()"
   ]
  },
  {
   "cell_type": "code",
   "execution_count": 186,
   "metadata": {
    "collapsed": false
   },
   "outputs": [
    {
     "data": {
      "text/plain": [
       "state  loc     year    disease  \n",
       "AK     ALASKA  1950.0  PERTUSSIS      86\n",
       "                       POLIO          61\n",
       "               1951.0  PERTUSSIS      78\n",
       "                       POLIO          32\n",
       "               1954.0  MEASLES      1487\n",
       "Name: cases, dtype: int64"
      ]
     },
     "execution_count": 186,
     "metadata": {},
     "output_type": "execute_result"
    }
   ],
   "source": [
    "Sample_Data.head()"
   ]
  },
  {
   "cell_type": "code",
   "execution_count": 184,
   "metadata": {
    "collapsed": false
   },
   "outputs": [],
   "source": [
    "Set_Sample_Data = list()\n",
    "Sample_Data_dict = Sample_Data.to_dict()\n",
    "for key in Sample_Data_dict.keys():\n",
    "    tmp_dict = dict();\n",
    "    tmp_dict[\"Abb_loc\"] = key[0];\n",
    "    tmp_dict[\"loc\"] = key[1];\n",
    "    tmp_dict[\"year\"] = int(key[2]);\n",
    "    tmp_dict[\"disease\"] = key[3];\n",
    "    tmp_dict[\"cases\"] = Sample_Data_dict[key]\n",
    "    Set_Sample_Data.append(tmp_dict)\n",
    "    \n",
    "del Sample_Data_dict"
   ]
  },
  {
   "cell_type": "code",
   "execution_count": 185,
   "metadata": {
    "collapsed": false
   },
   "outputs": [],
   "source": [
    "import json\n",
    "with open(\"Data_from_\"+str(start_year)+\"_to_\"+str(end_year)+\".json\", \"w\") as f:\n",
    "    f.write(\"{'data':\")\n",
    "    f.write(json.dumps(Set_Sample_Data)[1:-1])\n",
    "    f.write(\"}\")"
   ]
  },
  {
   "cell_type": "code",
   "execution_count": null,
   "metadata": {
    "collapsed": true
   },
   "outputs": [],
   "source": []
  }
 ],
 "metadata": {
  "kernelspec": {
   "display_name": "Python 2",
   "language": "python",
   "name": "python2"
  },
  "language_info": {
   "codemirror_mode": {
    "name": "ipython",
    "version": 2
   },
   "file_extension": ".py",
   "mimetype": "text/x-python",
   "name": "python",
   "nbconvert_exporter": "python",
   "pygments_lexer": "ipython2",
   "version": "2.7.12"
  }
 },
 "nbformat": 4,
 "nbformat_minor": 0
}
