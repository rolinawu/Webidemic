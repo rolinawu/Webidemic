{
 "cells": [
  {
   "cell_type": "code",
   "execution_count": 7,
   "metadata": {
    "collapsed": false
   },
   "outputs": [
    {
     "name": "stdout",
     "output_type": "stream",
     "text": [
      "cdc_zika.csv*\r\n",
      "epic.csv\r\n"
     ]
    }
   ],
   "source": [
    "ls ~/Desktop/ | grep \".csv\""
   ]
  },
  {
   "cell_type": "code",
   "execution_count": 227,
   "metadata": {
    "collapsed": true
   },
   "outputs": [],
   "source": [
    "import pandas as pd\n",
    "import numpy as np\n",
    "import math\n",
    "import re"
   ]
  },
  {
   "cell_type": "code",
   "execution_count": 39,
   "metadata": {
    "collapsed": false
   },
   "outputs": [
    {
     "data": {
      "text/html": [
       "<div>\n",
       "<table border=\"1\" class=\"dataframe\">\n",
       "  <thead>\n",
       "    <tr style=\"text-align: right;\">\n",
       "      <th></th>\n",
       "      <th>report_date</th>\n",
       "      <th>location</th>\n",
       "      <th>location_type</th>\n",
       "      <th>data_field</th>\n",
       "      <th>data_field_code</th>\n",
       "      <th>time_period</th>\n",
       "      <th>time_period_type</th>\n",
       "      <th>value</th>\n",
       "      <th>unit</th>\n",
       "      <th>index</th>\n",
       "    </tr>\n",
       "  </thead>\n",
       "  <tbody>\n",
       "    <tr>\n",
       "      <th>0</th>\n",
       "      <td>2016-03-19</td>\n",
       "      <td>Argentina-Buenos_Aires</td>\n",
       "      <td>province</td>\n",
       "      <td>cumulative_confirmed_local_cases</td>\n",
       "      <td>AR0001</td>\n",
       "      <td>NaN</td>\n",
       "      <td>NaN</td>\n",
       "      <td>0</td>\n",
       "      <td>cases</td>\n",
       "      <td>0</td>\n",
       "    </tr>\n",
       "    <tr>\n",
       "      <th>1</th>\n",
       "      <td>2016-03-19</td>\n",
       "      <td>Argentina-Buenos_Aires</td>\n",
       "      <td>province</td>\n",
       "      <td>cumulative_probable_local_cases</td>\n",
       "      <td>AR0002</td>\n",
       "      <td>NaN</td>\n",
       "      <td>NaN</td>\n",
       "      <td>0</td>\n",
       "      <td>cases</td>\n",
       "      <td>1</td>\n",
       "    </tr>\n",
       "    <tr>\n",
       "      <th>2</th>\n",
       "      <td>2016-03-19</td>\n",
       "      <td>Argentina-Buenos_Aires</td>\n",
       "      <td>province</td>\n",
       "      <td>cumulative_confirmed_imported_cases</td>\n",
       "      <td>AR0003</td>\n",
       "      <td>NaN</td>\n",
       "      <td>NaN</td>\n",
       "      <td>2</td>\n",
       "      <td>cases</td>\n",
       "      <td>2</td>\n",
       "    </tr>\n",
       "    <tr>\n",
       "      <th>3</th>\n",
       "      <td>2016-03-19</td>\n",
       "      <td>Argentina-Buenos_Aires</td>\n",
       "      <td>province</td>\n",
       "      <td>cumulative_probable_imported_cases</td>\n",
       "      <td>AR0004</td>\n",
       "      <td>NaN</td>\n",
       "      <td>NaN</td>\n",
       "      <td>1</td>\n",
       "      <td>cases</td>\n",
       "      <td>3</td>\n",
       "    </tr>\n",
       "    <tr>\n",
       "      <th>4</th>\n",
       "      <td>2016-03-19</td>\n",
       "      <td>Argentina-Buenos_Aires</td>\n",
       "      <td>province</td>\n",
       "      <td>cumulative_cases_under_study</td>\n",
       "      <td>AR0005</td>\n",
       "      <td>NaN</td>\n",
       "      <td>NaN</td>\n",
       "      <td>127</td>\n",
       "      <td>cases</td>\n",
       "      <td>4</td>\n",
       "    </tr>\n",
       "  </tbody>\n",
       "</table>\n",
       "</div>"
      ],
      "text/plain": [
       "  report_date                location location_type  \\\n",
       "0  2016-03-19  Argentina-Buenos_Aires      province   \n",
       "1  2016-03-19  Argentina-Buenos_Aires      province   \n",
       "2  2016-03-19  Argentina-Buenos_Aires      province   \n",
       "3  2016-03-19  Argentina-Buenos_Aires      province   \n",
       "4  2016-03-19  Argentina-Buenos_Aires      province   \n",
       "\n",
       "                            data_field data_field_code  time_period  \\\n",
       "0     cumulative_confirmed_local_cases          AR0001          NaN   \n",
       "1      cumulative_probable_local_cases          AR0002          NaN   \n",
       "2  cumulative_confirmed_imported_cases          AR0003          NaN   \n",
       "3   cumulative_probable_imported_cases          AR0004          NaN   \n",
       "4         cumulative_cases_under_study          AR0005          NaN   \n",
       "\n",
       "   time_period_type value   unit  index  \n",
       "0               NaN     0  cases      0  \n",
       "1               NaN     0  cases      1  \n",
       "2               NaN     2  cases      2  \n",
       "3               NaN     1  cases      3  \n",
       "4               NaN   127  cases      4  "
      ]
     },
     "execution_count": 39,
     "metadata": {},
     "output_type": "execute_result"
    }
   ],
   "source": [
    "zika_data = pd.read_csv(\"cdc_zika.csv\")\n",
    "zika_data[\"index\"] = zika_data.index\n",
    "zika_data.head()"
   ]
  },
  {
   "cell_type": "code",
   "execution_count": 112,
   "metadata": {
    "collapsed": false
   },
   "outputs": [
    {
     "name": "stdout",
     "output_type": "stream",
     "text": [
      "\n",
      "All features available:\n",
      "['report_date', 'location', 'location_type', 'data_field', 'data_field_code', 'time_period', 'time_period_type', 'value', 'unit', 'index']\n",
      "\n",
      "All location_type collected\n",
      "['province', 'state', 'region', 'municipality', nan, 'country', 'county', 'department', 'Department', 'district', 'city', 'territory']\n",
      "\n",
      "Range of report date available from 2015-11-28 to 2016_07-01, special date: nan\n",
      "\n",
      "Number of data points: 107619\n",
      "\n"
     ]
    }
   ],
   "source": [
    "print \"\\nAll features available:\\n\", list(zika_data.columns)\n",
    "print \"\\nAll location_type collected\\n\", list(zika_data[\"location_type\"].unique())\n",
    "#Note: .sort() returns null and sort the item\n",
    "zika_dates = sorted(zika_data[\"report_date\"].unique())\n",
    "print(\"\\nRange of report date available from %s to %s, special date: %s\"%(zika_dates[1], zika_dates[-1], zika_dates[0]))\n",
    "print(\"\\nNumber of data points: %d\\n\"%(len(zika_data)))\n",
    "\n",
    "del zika_dates"
   ]
  },
  {
   "cell_type": "code",
   "execution_count": 108,
   "metadata": {
    "collapsed": false
   },
   "outputs": [
    {
     "name": "stdout",
     "output_type": "stream",
     "text": [
      "Checking if all instances have report_date\n"
     ]
    },
    {
     "data": {
      "text/plain": [
       "True"
      ]
     },
     "execution_count": 108,
     "metadata": {},
     "output_type": "execute_result"
    }
   ],
   "source": [
    "#filter out data without Dates\n",
    "#remove time_period and time_period_type\n",
    "\n",
    "print(\"Checking if all instances have report_date\")\n",
    "len(zika_data.filter([\"index\", \"report_date\"]).values.tolist()) == len(filter(lambda ins: ins[1] != None and ins[1] != \"NaN\", zika_data.filter([\"index\", \"report_date\"]).values.tolist()))\n",
    "\n",
    "#Note: nan is float when read through pandas. To detect such float. You must use math.isnan() or float(\"nan\")"
   ]
  },
  {
   "cell_type": "code",
   "execution_count": 107,
   "metadata": {
    "collapsed": false
   },
   "outputs": [
    {
     "name": "stdout",
     "output_type": "stream",
     "text": [
      "Checking if all instances have time_period\n"
     ]
    },
    {
     "data": {
      "text/plain": [
       "False"
      ]
     },
     "execution_count": 107,
     "metadata": {},
     "output_type": "execute_result"
    }
   ],
   "source": [
    "#filter out data without Dates\n",
    "#remove time_period and time_period_type\n",
    "print(\"Checking if all instances have time_period\")\n",
    "len(zika_data.filter([\"index\", \"time_period\"]).values.tolist()) == len(filter(lambda ins: ins[1] != None and ins[1] != \"NaN\" and not math.isnan(ins[1]), zika_data.filter([\"index\", \"time_period\"]).values.tolist()))"
   ]
  },
  {
   "cell_type": "code",
   "execution_count": 131,
   "metadata": {
    "collapsed": false
   },
   "outputs": [],
   "source": [
    "Zika = zika_data.filter([\"index\",\"report_date\",\"location\",\"location_type\",\"value\",\"unit\"])\n",
    "Zika_len = len(Zika)"
   ]
  },
  {
   "cell_type": "code",
   "execution_count": 132,
   "metadata": {
    "collapsed": false
   },
   "outputs": [
    {
     "data": {
      "text/plain": [
       "1093"
      ]
     },
     "execution_count": 132,
     "metadata": {},
     "output_type": "execute_result"
    }
   ],
   "source": [
    "len(Zika.groupby(\"unit\").get_group(\"municipalities\"))"
   ]
  },
  {
   "cell_type": "code",
   "execution_count": 138,
   "metadata": {
    "collapsed": false
   },
   "outputs": [
    {
     "data": {
      "text/html": [
       "<div>\n",
       "<table border=\"1\" class=\"dataframe\">\n",
       "  <thead>\n",
       "    <tr style=\"text-align: right;\">\n",
       "      <th></th>\n",
       "      <th>index</th>\n",
       "      <th>report_date</th>\n",
       "      <th>location</th>\n",
       "      <th>location_type</th>\n",
       "      <th>value</th>\n",
       "      <th>unit</th>\n",
       "    </tr>\n",
       "  </thead>\n",
       "  <tbody>\n",
       "    <tr>\n",
       "      <th>2016</th>\n",
       "      <td>2016</td>\n",
       "      <td>2016-02-13</td>\n",
       "      <td>Brazil-Acre</td>\n",
       "      <td>state</td>\n",
       "      <td>22</td>\n",
       "      <td>cases</td>\n",
       "    </tr>\n",
       "    <tr>\n",
       "      <th>2017</th>\n",
       "      <td>2017</td>\n",
       "      <td>2016-02-13</td>\n",
       "      <td>Brazil-Alagoas</td>\n",
       "      <td>state</td>\n",
       "      <td>90</td>\n",
       "      <td>cases</td>\n",
       "    </tr>\n",
       "    <tr>\n",
       "      <th>2018</th>\n",
       "      <td>2018</td>\n",
       "      <td>2016-02-13</td>\n",
       "      <td>Brazil-Amapa</td>\n",
       "      <td>state</td>\n",
       "      <td>NaN</td>\n",
       "      <td>cases</td>\n",
       "    </tr>\n",
       "    <tr>\n",
       "      <th>2019</th>\n",
       "      <td>2019</td>\n",
       "      <td>2016-02-13</td>\n",
       "      <td>Brazil-Amazonas</td>\n",
       "      <td>state</td>\n",
       "      <td>NaN</td>\n",
       "      <td>cases</td>\n",
       "    </tr>\n",
       "    <tr>\n",
       "      <th>2020</th>\n",
       "      <td>2020</td>\n",
       "      <td>2016-02-13</td>\n",
       "      <td>Brazil-Bahia</td>\n",
       "      <td>state</td>\n",
       "      <td>583</td>\n",
       "      <td>cases</td>\n",
       "    </tr>\n",
       "  </tbody>\n",
       "</table>\n",
       "</div>"
      ],
      "text/plain": [
       "      index report_date         location location_type value   unit\n",
       "2016   2016  2016-02-13      Brazil-Acre         state    22  cases\n",
       "2017   2017  2016-02-13   Brazil-Alagoas         state    90  cases\n",
       "2018   2018  2016-02-13     Brazil-Amapa         state   NaN  cases\n",
       "2019   2019  2016-02-13  Brazil-Amazonas         state   NaN  cases\n",
       "2020   2020  2016-02-13     Brazil-Bahia         state   583  cases"
      ]
     },
     "execution_count": 138,
     "metadata": {},
     "output_type": "execute_result"
    }
   ],
   "source": [
    "Zika.groupby(\"location_type\").get_group(\"state\").head()"
   ]
  },
  {
   "cell_type": "code",
   "execution_count": null,
   "metadata": {
    "collapsed": true
   },
   "outputs": [],
   "source": [
    "Zika.loc[[2414,2783,5192]]"
   ]
  },
  {
   "cell_type": "code",
   "execution_count": 182,
   "metadata": {
    "collapsed": false
   },
   "outputs": [
    {
     "data": {
      "text/plain": [
       "report_date  location                  location_type\n",
       "2015-11-28   El_Salvador               country          854\n",
       "             El_Salvador-Ahuachapan    department         4\n",
       "             El_Salvador-Cabanas       department         3\n",
       "             El_Salvador-Chalatenango  department         8\n",
       "             El_Salvador-Cuscatlan     department         4\n",
       "Name: value, dtype: int64"
      ]
     },
     "execution_count": 182,
     "metadata": {},
     "output_type": "execute_result"
    }
   ],
   "source": [
    "#give lat/lng based on location\n",
    "####change location to number based on one-hot encoding\n",
    "#feed in data based on date\n",
    "#label is the location of the place\n",
    "Zika[\"value\"] = map(lambda x: -1 if math.isnan(to_float(x)) else int(to_float(x)), Zika[\"value\"])\n",
    "Zika_case_sum = Zika.groupby([\"report_date\", \"location\", \"location_type\"])[\"value\"].sum()\n",
    "Zika_case_sum.head()"
   ]
  },
  {
   "cell_type": "code",
   "execution_count": 183,
   "metadata": {
    "collapsed": false
   },
   "outputs": [],
   "source": [
    "def to_float(x):\n",
    "    try:\n",
    "        return float(x)\n",
    "    except: \n",
    "        x_split = x.split(\"*\")\n",
    "        if x_split[1] !=\"\":\n",
    "            #print x_split\n",
    "            return int(x_split[0]) * int(x_split[1])\n",
    "        else:\n",
    "            return float(x_split[0])"
   ]
  },
  {
   "cell_type": "code",
   "execution_count": 221,
   "metadata": {
    "collapsed": false
   },
   "outputs": [
    {
     "data": {
      "text/html": [
       "<div>\n",
       "<table border=\"1\" class=\"dataframe\">\n",
       "  <thead>\n",
       "    <tr style=\"text-align: right;\">\n",
       "      <th></th>\n",
       "      <th></th>\n",
       "      <th></th>\n",
       "      <th>value</th>\n",
       "    </tr>\n",
       "    <tr>\n",
       "      <th>report_date</th>\n",
       "      <th>location</th>\n",
       "      <th>location_type</th>\n",
       "      <th></th>\n",
       "    </tr>\n",
       "  </thead>\n",
       "  <tbody>\n",
       "    <tr>\n",
       "      <th rowspan=\"2\" valign=\"top\">2016-02-20</th>\n",
       "      <th>Brazil-Amapa</th>\n",
       "      <th>state</th>\n",
       "      <td>-5</td>\n",
       "    </tr>\n",
       "    <tr>\n",
       "      <th>Brazil-Amazonas</th>\n",
       "      <th>state</th>\n",
       "      <td>-5</td>\n",
       "    </tr>\n",
       "    <tr>\n",
       "      <th>2016-02-27</th>\n",
       "      <th>Brazil-Amapa</th>\n",
       "      <th>state</th>\n",
       "      <td>-5</td>\n",
       "    </tr>\n",
       "    <tr>\n",
       "      <th>2016-03-12</th>\n",
       "      <th>Brazil-Amapa</th>\n",
       "      <th>state</th>\n",
       "      <td>-5</td>\n",
       "    </tr>\n",
       "    <tr>\n",
       "      <th>2016-03-05</th>\n",
       "      <th>Brazil-Amapa</th>\n",
       "      <th>state</th>\n",
       "      <td>-5</td>\n",
       "    </tr>\n",
       "  </tbody>\n",
       "</table>\n",
       "</div>"
      ],
      "text/plain": [
       "                                           value\n",
       "report_date location        location_type       \n",
       "2016-02-20  Brazil-Amapa    state             -5\n",
       "            Brazil-Amazonas state             -5\n",
       "2016-02-27  Brazil-Amapa    state             -5\n",
       "2016-03-12  Brazil-Amapa    state             -5\n",
       "2016-03-05  Brazil-Amapa    state             -5"
      ]
     },
     "execution_count": 221,
     "metadata": {},
     "output_type": "execute_result"
    }
   ],
   "source": [
    "Zika_case_sum.to_frame().head()"
   ]
  },
  {
   "cell_type": "code",
   "execution_count": 229,
   "metadata": {
    "collapsed": false
   },
   "outputs": [],
   "source": [
    "Set_Sample_Data = list()\n",
    "Sample_Data_dict = Zika_case_sum.to_dict()\n",
    "for key in Sample_Data_dict.keys():\n",
    "    tmp_dict = dict();\n",
    "    tmp_dict[\"report_date\"] = int(re.sub(\"-|_\",\"\",key[0]));\n",
    "    tmp_dict[\"location\"] = key[1];\n",
    "    tmp_dict[\"location_type\"] = key[2];\n",
    "    tmp_dict[\"value\"] = Sample_Data_dict[key]\n",
    "    Set_Sample_Data.append(tmp_dict)\n",
    "    \n",
    "del Sample_Data_dict"
   ]
  },
  {
   "cell_type": "code",
   "execution_count": 230,
   "metadata": {
    "collapsed": true
   },
   "outputs": [],
   "source": [
    "#create a distribution map\n",
    "#RNN won't work because there are not enought information released about the data"
   ]
  },
  {
   "cell_type": "code",
   "execution_count": 235,
   "metadata": {
    "collapsed": false
   },
   "outputs": [
    {
     "data": {
      "text/html": [
       "<div>\n",
       "<table border=\"1\" class=\"dataframe\">\n",
       "  <thead>\n",
       "    <tr style=\"text-align: right;\">\n",
       "      <th></th>\n",
       "      <th>location</th>\n",
       "      <th>location_type</th>\n",
       "      <th>report_date</th>\n",
       "      <th>value</th>\n",
       "    </tr>\n",
       "  </thead>\n",
       "  <tbody>\n",
       "    <tr>\n",
       "      <th>0</th>\n",
       "      <td>Colombia-Bolivar-Tiquisio</td>\n",
       "      <td>municipality</td>\n",
       "      <td>20160312</td>\n",
       "      <td>4</td>\n",
       "    </tr>\n",
       "    <tr>\n",
       "      <th>1</th>\n",
       "      <td>Colombia-Risaralda-Pereira</td>\n",
       "      <td>municipality</td>\n",
       "      <td>20160116</td>\n",
       "      <td>28</td>\n",
       "    </tr>\n",
       "    <tr>\n",
       "      <th>2</th>\n",
       "      <td>Colombia-Cesar-Astrea</td>\n",
       "      <td>municipality</td>\n",
       "      <td>20160618</td>\n",
       "      <td>14</td>\n",
       "    </tr>\n",
       "    <tr>\n",
       "      <th>3</th>\n",
       "      <td>Colombia-Quindio-Unknown</td>\n",
       "      <td>municipality</td>\n",
       "      <td>20160611</td>\n",
       "      <td>9</td>\n",
       "    </tr>\n",
       "    <tr>\n",
       "      <th>4</th>\n",
       "      <td>Colombia-Valle_Del_Cauca-Palmira</td>\n",
       "      <td>municipality</td>\n",
       "      <td>20160116</td>\n",
       "      <td>8</td>\n",
       "    </tr>\n",
       "  </tbody>\n",
       "</table>\n",
       "</div>"
      ],
      "text/plain": [
       "                           location location_type  report_date  value\n",
       "0         Colombia-Bolivar-Tiquisio  municipality     20160312      4\n",
       "1        Colombia-Risaralda-Pereira  municipality     20160116     28\n",
       "2             Colombia-Cesar-Astrea  municipality     20160618     14\n",
       "3          Colombia-Quindio-Unknown  municipality     20160611      9\n",
       "4  Colombia-Valle_Del_Cauca-Palmira  municipality     20160116      8"
      ]
     },
     "execution_count": 235,
     "metadata": {},
     "output_type": "execute_result"
    }
   ],
   "source": [
    "Zika_new_Frame = pd.DataFrame(Set_Sample_Data)\n",
    "Zika_new_Frame.head()"
   ]
  },
  {
   "cell_type": "code",
   "execution_count": 266,
   "metadata": {
    "collapsed": false
   },
   "outputs": [
    {
     "data": {
      "text/html": [
       "<div>\n",
       "<table border=\"1\" class=\"dataframe\">\n",
       "  <thead>\n",
       "    <tr style=\"text-align: right;\">\n",
       "      <th></th>\n",
       "      <th>location</th>\n",
       "      <th>location_type</th>\n",
       "      <th>report_date</th>\n",
       "      <th>value</th>\n",
       "    </tr>\n",
       "  </thead>\n",
       "  <tbody>\n",
       "    <tr>\n",
       "      <th>14303</th>\n",
       "      <td>El_Salvador</td>\n",
       "      <td>country</td>\n",
       "      <td>20151128</td>\n",
       "      <td>854</td>\n",
       "    </tr>\n",
       "    <tr>\n",
       "      <th>3517</th>\n",
       "      <td>El_Salvador-Ahuachapan</td>\n",
       "      <td>department</td>\n",
       "      <td>20151128</td>\n",
       "      <td>4</td>\n",
       "    </tr>\n",
       "    <tr>\n",
       "      <th>32425</th>\n",
       "      <td>El_Salvador-Cabanas</td>\n",
       "      <td>department</td>\n",
       "      <td>20151128</td>\n",
       "      <td>3</td>\n",
       "    </tr>\n",
       "    <tr>\n",
       "      <th>11082</th>\n",
       "      <td>El_Salvador-Chalatenango</td>\n",
       "      <td>department</td>\n",
       "      <td>20151128</td>\n",
       "      <td>8</td>\n",
       "    </tr>\n",
       "    <tr>\n",
       "      <th>25706</th>\n",
       "      <td>El_Salvador-Cuscatlan</td>\n",
       "      <td>department</td>\n",
       "      <td>20151128</td>\n",
       "      <td>4</td>\n",
       "    </tr>\n",
       "  </tbody>\n",
       "</table>\n",
       "</div>"
      ],
      "text/plain": [
       "                       location location_type  report_date  value\n",
       "14303               El_Salvador       country     20151128    854\n",
       "3517     El_Salvador-Ahuachapan    department     20151128      4\n",
       "32425       El_Salvador-Cabanas    department     20151128      3\n",
       "11082  El_Salvador-Chalatenango    department     20151128      8\n",
       "25706     El_Salvador-Cuscatlan    department     20151128      4"
      ]
     },
     "execution_count": 266,
     "metadata": {},
     "output_type": "execute_result"
    }
   ],
   "source": [
    "Sorted_Zika_new_Frame = Zika_new_Frame.sort_values([\"report_date\",\"location\"],ascending=[True,True])\n",
    "Sorted_Zika_new_Frame.head()"
   ]
  },
  {
   "cell_type": "code",
   "execution_count": 267,
   "metadata": {
    "collapsed": false
   },
   "outputs": [],
   "source": [
    "locations = list()\n",
    "for loc in Sorted_Zika_new_Frame[\"location\"].tolist():\n",
    "    locations.append(re.sub(\"-.*\",\"\", loc))"
   ]
  },
  {
   "cell_type": "code",
   "execution_count": 268,
   "metadata": {
    "collapsed": false
   },
   "outputs": [
    {
     "data": {
      "text/html": [
       "<div>\n",
       "<table border=\"1\" class=\"dataframe\">\n",
       "  <thead>\n",
       "    <tr style=\"text-align: right;\">\n",
       "      <th></th>\n",
       "      <th>location</th>\n",
       "      <th>location_type</th>\n",
       "      <th>report_date</th>\n",
       "      <th>value</th>\n",
       "    </tr>\n",
       "  </thead>\n",
       "  <tbody>\n",
       "    <tr>\n",
       "      <th>14303</th>\n",
       "      <td>El_Salvador</td>\n",
       "      <td>country</td>\n",
       "      <td>20151128</td>\n",
       "      <td>854</td>\n",
       "    </tr>\n",
       "    <tr>\n",
       "      <th>3517</th>\n",
       "      <td>El_Salvador</td>\n",
       "      <td>department</td>\n",
       "      <td>20151128</td>\n",
       "      <td>4</td>\n",
       "    </tr>\n",
       "    <tr>\n",
       "      <th>32425</th>\n",
       "      <td>El_Salvador</td>\n",
       "      <td>department</td>\n",
       "      <td>20151128</td>\n",
       "      <td>3</td>\n",
       "    </tr>\n",
       "    <tr>\n",
       "      <th>11082</th>\n",
       "      <td>El_Salvador</td>\n",
       "      <td>department</td>\n",
       "      <td>20151128</td>\n",
       "      <td>8</td>\n",
       "    </tr>\n",
       "    <tr>\n",
       "      <th>25706</th>\n",
       "      <td>El_Salvador</td>\n",
       "      <td>department</td>\n",
       "      <td>20151128</td>\n",
       "      <td>4</td>\n",
       "    </tr>\n",
       "  </tbody>\n",
       "</table>\n",
       "</div>"
      ],
      "text/plain": [
       "          location location_type  report_date  value\n",
       "14303  El_Salvador       country     20151128    854\n",
       "3517   El_Salvador    department     20151128      4\n",
       "32425  El_Salvador    department     20151128      3\n",
       "11082  El_Salvador    department     20151128      8\n",
       "25706  El_Salvador    department     20151128      4"
      ]
     },
     "execution_count": 268,
     "metadata": {},
     "output_type": "execute_result"
    }
   ],
   "source": [
    "Sorted_Zika_new_Frame[\"location\"]=locations\n",
    "Sorted_Zika_new_Frame.head()"
   ]
  },
  {
   "cell_type": "code",
   "execution_count": 277,
   "metadata": {
    "collapsed": false
   },
   "outputs": [
    {
     "name": "stdout",
     "output_type": "stream",
     "text": [
      "amount of samples remained after grouping: 301\n"
     ]
    },
    {
     "data": {
      "text/plain": [
       "report_date  location   \n",
       "20151128     El_Salvador    1591\n",
       "             Mexico            4\n",
       "20151205     El_Salvador    2602\n",
       "             Mexico            0\n",
       "20151209     Guatemala        62\n",
       "Name: value, dtype: int64"
      ]
     },
     "execution_count": 277,
     "metadata": {},
     "output_type": "execute_result"
    }
   ],
   "source": [
    "Clean_Zika = Sorted_Zika_new_Frame.groupby([\"report_date\", \"location\"])[\"value\"].sum()\n",
    "print \"amount of samples remained after grouping:\", len(Clean_Zika)\n",
    "Clean_Zika.head()"
   ]
  },
  {
   "cell_type": "code",
   "execution_count": 279,
   "metadata": {
    "collapsed": false
   },
   "outputs": [],
   "source": [
    "Set_Sample_Data = list()\n",
    "Sample_Data_dict = Clean_Zika.to_dict()\n",
    "for key in Sample_Data_dict.keys():\n",
    "    tmp_dict = dict();\n",
    "    tmp_dict[\"report_date\"] = key[0];\n",
    "    tmp_dict[\"location\"] = key[1];\n",
    "    tmp_dict[\"value\"] = Sample_Data_dict[key]\n",
    "    Set_Sample_Data.append(tmp_dict)\n",
    "    \n",
    "del Sample_Data_dict"
   ]
  },
  {
   "cell_type": "code",
   "execution_count": 283,
   "metadata": {
    "collapsed": false
   },
   "outputs": [],
   "source": [
    "import json\n",
    "with open(\"Data_for_Zika.json\", \"w\") as f:\n",
    "    f.write(\"{'data':\")\n",
    "    f.write(json.dumps(Set_Sample_Data)[1:-1])\n",
    "    f.write(\"}\")"
   ]
  },
  {
   "cell_type": "code",
   "execution_count": 297,
   "metadata": {
    "collapsed": false
   },
   "outputs": [],
   "source": [
    "Sorted_Sample_Data = sorted(Set_Sample_Data, key = lambda x: x[\"report_date\"])"
   ]
  },
  {
   "cell_type": "code",
   "execution_count": 298,
   "metadata": {
    "collapsed": false
   },
   "outputs": [],
   "source": [
    "import json\n",
    "with open(\"Data_for_Zika.json\", \"w\") as f:\n",
    "    f.write(\"data=\")\n",
    "    f.write(json.dumps(Sorted_Sample_Data))"
   ]
  },
  {
   "cell_type": "code",
   "execution_count": null,
   "metadata": {
    "collapsed": true
   },
   "outputs": [],
   "source": []
  },
  {
   "cell_type": "code",
   "execution_count": 288,
   "metadata": {
    "collapsed": false
   },
   "outputs": [],
   "source": [
    "#classification\n",
    "\n",
    "#find coordinates\n",
    "country_table = pd.read_csv(\"/Users/Rolina/Desktop/country_centroids/country_centroids_all.csv\", sep='\\t')\n",
    "country_coord = dict()\n",
    "for ins in country_table.values.tolist():\n",
    "    tmp = dict()\n",
    "    tmp[\"lat\"] = ins[0]\n",
    "    tmp[\"lng\"] = ins[1]\n",
    "    tmp[\"Abb_loc\"] = ins[8]\n",
    "    loc = re.sub(\"'\",\"\" ,re.sub(\" \",\"_\",ins[9]))\n",
    "    tmp[\"loc\"] = loc\n",
    "    tmp[\"full_name\"] = re.sub(\"'\",\"\", re.sub(\" \",\"_\",ins[10]))\n",
    "    country_coord[loc] = tmp"
   ]
  },
  {
   "cell_type": "code",
   "execution_count": null,
   "metadata": {
    "collapsed": true
   },
   "outputs": [],
   "source": [
    "can we use location and population to predict whether or not it will have zika outbreak recently\n",
    "\n",
    "can we use location and population to predict whether or not it will have large value of cases\n",
    "\n",
    "\n",
    "for ins in Set_Sample_Data:\n",
    "    ins_matrix = [1,2,3]\n",
    "    ins_matrix[0] = country_coord[ins[\"location\"]][\"lat\"]\n",
    "    ins_matrix[1] = country_coord[ins[\"location\"]][\"lng\"]\n",
    "    ins_matrix[2] = \n",
    "\n"
   ]
  },
  {
   "cell_type": "code",
   "execution_count": 299,
   "metadata": {
    "collapsed": false
   },
   "outputs": [
    {
     "ename": "NameError",
     "evalue": "name 'plt' is not defined",
     "output_type": "error",
     "traceback": [
      "\u001b[0;31m---------------------------------------------------------------------------\u001b[0m",
      "\u001b[0;31mNameError\u001b[0m                                 Traceback (most recent call last)",
      "\u001b[0;32m<ipython-input-299-1959b3671ae9>\u001b[0m in \u001b[0;36m<module>\u001b[0;34m()\u001b[0m\n\u001b[1;32m      1\u001b[0m \u001b[0;32mfrom\u001b[0m \u001b[0mmatplotlib\u001b[0m\u001b[0;34m.\u001b[0m\u001b[0mfont_manager\u001b[0m \u001b[0;32mimport\u001b[0m \u001b[0mFontProperties\u001b[0m\u001b[0;34m\u001b[0m\u001b[0m\n\u001b[0;32m----> 2\u001b[0;31m \u001b[0mfig\u001b[0m \u001b[0;34m=\u001b[0m \u001b[0mplt\u001b[0m\u001b[0;34m.\u001b[0m\u001b[0mfigure\u001b[0m\u001b[0;34m(\u001b[0m\u001b[0mfigsize\u001b[0m\u001b[0;34m=\u001b[0m\u001b[0;34m(\u001b[0m\u001b[0;36m10\u001b[0m\u001b[0;34m,\u001b[0m\u001b[0;36m10\u001b[0m\u001b[0;34m)\u001b[0m\u001b[0;34m)\u001b[0m\u001b[0;34m\u001b[0m\u001b[0m\n\u001b[0m\u001b[1;32m      3\u001b[0m \u001b[0max\u001b[0m \u001b[0;34m=\u001b[0m \u001b[0mfig\u001b[0m\u001b[0;34m.\u001b[0m\u001b[0madd_subplot\u001b[0m\u001b[0;34m(\u001b[0m\u001b[0;36m111\u001b[0m\u001b[0;34m,\u001b[0m \u001b[0mtitle\u001b[0m\u001b[0;34m=\u001b[0m\u001b[0;34m\"Year v.s. Cases\"\u001b[0m\u001b[0;34m)\u001b[0m\u001b[0;34m\u001b[0m\u001b[0m\n\u001b[1;32m      4\u001b[0m \u001b[0mcolor_list\u001b[0m \u001b[0;34m=\u001b[0m \u001b[0;34m[\u001b[0m\u001b[0;34m\"Red\"\u001b[0m\u001b[0;34m,\u001b[0m\u001b[0;34m\"Blue\"\u001b[0m\u001b[0;34m,\u001b[0m\u001b[0;34m\"Orange\"\u001b[0m\u001b[0;34m,\u001b[0m\u001b[0;34m\"Yellow\"\u001b[0m\u001b[0;34m,\u001b[0m\u001b[0;34m\"Green\"\u001b[0m\u001b[0;34m,\u001b[0m\u001b[0;34m\"Pink\"\u001b[0m\u001b[0;34m,\u001b[0m\u001b[0;34m\"Purple\"\u001b[0m\u001b[0;34m,\u001b[0m\u001b[0;34m\"Cyan\"\u001b[0m\u001b[0;34m]\u001b[0m\u001b[0;34m\u001b[0m\u001b[0m\n\u001b[1;32m      5\u001b[0m \u001b[0;32mfor\u001b[0m \u001b[0mdis\u001b[0m\u001b[0;34m,\u001b[0m \u001b[0mcolor\u001b[0m \u001b[0;32min\u001b[0m \u001b[0mzip\u001b[0m\u001b[0;34m(\u001b[0m\u001b[0mepic\u001b[0m\u001b[0;34m[\u001b[0m\u001b[0;34m\"disease\"\u001b[0m\u001b[0;34m]\u001b[0m\u001b[0;34m.\u001b[0m\u001b[0munique\u001b[0m\u001b[0;34m(\u001b[0m\u001b[0;34m)\u001b[0m\u001b[0;34m,\u001b[0m \u001b[0mcolor_list\u001b[0m\u001b[0;34m)\u001b[0m\u001b[0;34m:\u001b[0m\u001b[0;34m\u001b[0m\u001b[0m\n",
      "\u001b[0;31mNameError\u001b[0m: name 'plt' is not defined"
     ]
    }
   ],
   "source": [
    "from matplotlib.font_manager import FontProperties\n",
    "fig = plt.figure(figsize=(10,10))\n",
    "ax = fig.add_subplot(111, title=\"Year v.s. Cases\")\n",
    "for dis in epic[\"disease\"].unique():\n",
    "    epic.groupby([\"disease\"]).get_group(dis).plot.scatter(x='year', y='cases', color=color, label=dis, ax=ax);\n",
    "    box = ax.get_position()\n",
    "\n",
    "ax.set_position([box.x0, box.y0 + box.height * 0.1, box.width, box.height * 0.9])\n",
    "ax.legend(loc='upper center', bbox_to_anchor=(0.5, -0.05), fancybox=True, shadow=True, ncol=5)\n",
    "plt.show()\n"
   ]
  },
  {
   "cell_type": "code",
   "execution_count": null,
   "metadata": {
    "collapsed": true
   },
   "outputs": [],
   "source": []
  }
 ],
 "metadata": {
  "kernelspec": {
   "display_name": "Python 2",
   "language": "python",
   "name": "python2"
  },
  "language_info": {
   "codemirror_mode": {
    "name": "ipython",
    "version": 2
   },
   "file_extension": ".py",
   "mimetype": "text/x-python",
   "name": "python",
   "nbconvert_exporter": "python",
   "pygments_lexer": "ipython2",
   "version": "2.7.12"
  }
 },
 "nbformat": 4,
 "nbformat_minor": 0
}
