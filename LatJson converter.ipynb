{
 "cells": [
  {
   "cell_type": "code",
   "execution_count": 66,
   "metadata": {
    "collapsed": false
   },
   "outputs": [],
   "source": [
    "from bs4 import BeautifulSoup\n",
    "import re\n",
    "import json"
   ]
  },
  {
   "cell_type": "code",
   "execution_count": 3,
   "metadata": {
    "collapsed": true
   },
   "outputs": [],
   "source": [
    "with open(\"HTML_Json\", \"r\") as f: \n",
    "    html_doc = f.read()\n",
    "    \n",
    "soup = BeautifulSoup(html_doc, 'html.parser')\n"
   ]
  },
  {
   "cell_type": "code",
   "execution_count": 57,
   "metadata": {
    "collapsed": false
   },
   "outputs": [
    {
     "data": {
      "text/plain": [
       "['',\n",
       " '<tdalign=\"left\"valign=\"top\">Albany,N.Y.</td><tdalign=\"right\"valign=\"top\">42</td><tdalign=\"right\"valign=\"top\">40</td><tdalign=\"right\"valign=\"top\">73</td><tdalign=\"right\"valign=\"top\">45</td><tdalign=\"right\"valign=\"top\">12:00noon</td></tr>',\n",
       " '<tdalign=\"left\"valign=\"top\">Albuquerque,N.M.</td><tdalign=\"right\"valign=\"top\">35</td><tdalign=\"right\"valign=\"top\">05</td><tdalign=\"right\"valign=\"top\">106</td><tdalign=\"right\"valign=\"top\">39</td><tdalign=\"right\"valign=\"top\">10:00a.m.</td></tr>',\n",
       " '<tdalign=\"left\"valign=\"top\">Amarillo,Tex.</td><tdalign=\"right\"valign=\"top\">35</td><tdalign=\"right\"valign=\"top\">11</td><tdalign=\"right\"valign=\"top\">101</td><tdalign=\"right\"valign=\"top\">50</td><tdalign=\"right\"valign=\"top\">11:00a.m.</td></tr>',\n",
       " '<tdalign=\"left\"valign=\"top\">Anchorage,Alaska</td><tdalign=\"right\"valign=\"top\">61</td><tdalign=\"right\"valign=\"top\">13</td><tdalign=\"right\"valign=\"top\">149</td><tdalign=\"right\"valign=\"top\">54</td><tdalign=\"right\"valign=\"top\">8:00a.m.</td></tr>',\n",
       " '<tdalign=\"left\"valign=\"top\">Atlanta,Ga.</td><tdalign=\"right\"valign=\"top\">33</td><tdalign=\"right\"valign=\"top\">45</td><tdalign=\"right\"valign=\"top\">84</td><tdalign=\"right\"valign=\"top\">23</td><tdalign=\"right\"valign=\"top\">12:00noon</td></tr>',\n",
       " '<tdalign=\"left\"valign=\"top\">Austin,Tex.</td><tdalign=\"right\"valign=\"top\">30</td><tdalign=\"right\"valign=\"top\">16</td><tdalign=\"right\"valign=\"top\">97</td><tdalign=\"right\"valign=\"top\">44</td><tdalign=\"right\"valign=\"top\">11:00a.m.</td></tr>',\n",
       " '<tdalign=\"left\"valign=\"top\">Baker,Ore.</td><tdalign=\"right\"valign=\"top\">44</td><tdalign=\"right\"valign=\"top\">47</td><tdalign=\"right\"valign=\"top\">117</td><tdalign=\"right\"valign=\"top\">50</td><tdalign=\"right\"valign=\"top\">9:00a.m.</td></tr>',\n",
       " '<tdalign=\"left\"valign=\"top\">Baltimore,Md.</td><tdalign=\"right\"valign=\"top\">39</td><tdalign=\"right\"valign=\"top\">18</td><tdalign=\"right\"valign=\"top\">76</td><tdalign=\"right\"valign=\"top\">38</td><tdalign=\"right\"valign=\"top\">12:00noon</td></tr>',\n",
       " '<tdalign=\"left\"valign=\"top\">Bangor,Maine</td><tdalign=\"right\"valign=\"top\">44</td><tdalign=\"right\"valign=\"top\">48</td><tdalign=\"right\"valign=\"top\">68</td><tdalign=\"right\"valign=\"top\">47</td><tdalign=\"right\"valign=\"top\">12:00noon</td></tr>',\n",
       " '<tdalign=\"left\"valign=\"top\">Birmingham,Ala.</td><tdalign=\"right\"valign=\"top\">33</td><tdalign=\"right\"valign=\"top\">30</td><tdalign=\"right\"valign=\"top\">86</td><tdalign=\"right\"valign=\"top\">50</td><tdalign=\"right\"valign=\"top\">11:00a.m.</td></tr>',\n",
       " '<tdalign=\"left\"valign=\"top\">Bismarck,N.D.</td><tdalign=\"right\"valign=\"top\">46</td><tdalign=\"right\"valign=\"top\">48</td><tdalign=\"right\"valign=\"top\">100</td><tdalign=\"right\"valign=\"top\">47</td><tdalign=\"right\"valign=\"top\">11:00a.m.</td></tr>',\n",
       " '<tdalign=\"left\"valign=\"top\">Boise,Idaho</td><tdalign=\"right\"valign=\"top\">43</td><tdalign=\"right\"valign=\"top\">36</td><tdalign=\"right\"valign=\"top\">116</td><tdalign=\"right\"valign=\"top\">13</td><tdalign=\"right\"valign=\"top\">10:00a.m.</td></tr>',\n",
       " '<tdalign=\"left\"valign=\"top\">Boston,Mass.</td><tdalign=\"right\"valign=\"top\">42</td><tdalign=\"right\"valign=\"top\">21</td><tdalign=\"right\"valign=\"top\">71</td><tdalign=\"right\"valign=\"top\">5</td><tdalign=\"right\"valign=\"top\">12:00noon</td></tr>',\n",
       " '<tdalign=\"left\"valign=\"top\">Buffalo,N.Y.</td><tdalign=\"right\"valign=\"top\">42</td><tdalign=\"right\"valign=\"top\">55</td><tdalign=\"right\"valign=\"top\">78</td><tdalign=\"right\"valign=\"top\">50</td><tdalign=\"right\"valign=\"top\">12:00noon</td></tr>',\n",
       " '<tdalign=\"left\"valign=\"top\">Calgary,Alba.,Can.</td><tdalign=\"right\"valign=\"top\">51</td><tdalign=\"right\"valign=\"top\">1</td><tdalign=\"right\"valign=\"top\">114</td><tdalign=\"right\"valign=\"top\">1</td><tdalign=\"right\"valign=\"top\">10:00a.m.</td></tr>',\n",
       " '<tdalign=\"left\"valign=\"top\">Carlsbad,N.M.</td><tdalign=\"right\"valign=\"top\">32</td><tdalign=\"right\"valign=\"top\">26</td><tdalign=\"right\"valign=\"top\">104</td><tdalign=\"right\"valign=\"top\">15</td><tdalign=\"right\"valign=\"top\">10:00a.m.</td></tr>',\n",
       " '<tdalign=\"left\"valign=\"top\">Charleston,S.C.</td><tdalign=\"right\"valign=\"top\">32</td><tdalign=\"right\"valign=\"top\">47</td><tdalign=\"right\"valign=\"top\">79</td><tdalign=\"right\"valign=\"top\">56</td><tdalign=\"right\"valign=\"top\">12:00noon</td></tr>',\n",
       " '<tdalign=\"left\"valign=\"top\">Charleston,W.Va.</td><tdalign=\"right\"valign=\"top\">38</td><tdalign=\"right\"valign=\"top\">21</td><tdalign=\"right\"valign=\"top\">81</td><tdalign=\"right\"valign=\"top\">38</td><tdalign=\"right\"valign=\"top\">12:00noon</td></tr>',\n",
       " '<tdalign=\"left\"valign=\"top\">Charlotte,N.C.</td><tdalign=\"right\"valign=\"top\">35</td><tdalign=\"right\"valign=\"top\">14</td><tdalign=\"right\"valign=\"top\">80</td><tdalign=\"right\"valign=\"top\">50</td><tdalign=\"right\"valign=\"top\">12:00noon</td></tr>',\n",
       " '<tdalign=\"left\"valign=\"top\">Cheyenne,Wyo.</td><tdalign=\"right\"valign=\"top\">41</td><tdalign=\"right\"valign=\"top\">9</td><tdalign=\"right\"valign=\"top\">104</td><tdalign=\"right\"valign=\"top\">52</td><tdalign=\"right\"valign=\"top\">10:00a.m.</td></tr>',\n",
       " '<tdalign=\"left\"valign=\"top\">Chicago,Ill.</td><tdalign=\"right\"valign=\"top\">41</td><tdalign=\"right\"valign=\"top\">50</td><tdalign=\"right\"valign=\"top\">87</td><tdalign=\"right\"valign=\"top\">37</td><tdalign=\"right\"valign=\"top\">11:00a.m.</td></tr>',\n",
       " '<tdalign=\"left\"valign=\"top\">Cincinnati,Ohio</td><tdalign=\"right\"valign=\"top\">39</td><tdalign=\"right\"valign=\"top\">8</td><tdalign=\"right\"valign=\"top\">84</td><tdalign=\"right\"valign=\"top\">30</td><tdalign=\"right\"valign=\"top\">12:00noon</td></tr>',\n",
       " '<tdalign=\"left\"valign=\"top\">Cleveland,Ohio</td><tdalign=\"right\"valign=\"top\">41</td><tdalign=\"right\"valign=\"top\">28</td><tdalign=\"right\"valign=\"top\">81</td><tdalign=\"right\"valign=\"top\">37</td><tdalign=\"right\"valign=\"top\">12:00noon</td></tr>',\n",
       " '<tdalign=\"left\"valign=\"top\">Columbia,S.C.</td><tdalign=\"right\"valign=\"top\">34</td><tdalign=\"right\"valign=\"top\">0</td><tdalign=\"right\"valign=\"top\">81</td><tdalign=\"right\"valign=\"top\">2</td><tdalign=\"right\"valign=\"top\">12:00noon</td></tr>',\n",
       " '<tdalign=\"left\"valign=\"top\">Columbus,Ohio</td><tdalign=\"right\"valign=\"top\">40</td><tdalign=\"right\"valign=\"top\">0</td><tdalign=\"right\"valign=\"top\">83</td><tdalign=\"right\"valign=\"top\">1</td><tdalign=\"right\"valign=\"top\">12:00noon</td></tr>',\n",
       " '<tdalign=\"left\"valign=\"top\">Dallas,Tex.</td><tdalign=\"right\"valign=\"top\">32</td><tdalign=\"right\"valign=\"top\">46</td><tdalign=\"right\"valign=\"top\">96</td><tdalign=\"right\"valign=\"top\">46</td><tdalign=\"right\"valign=\"top\">11:00a.m.</td></tr>',\n",
       " '<tdalign=\"left\"valign=\"top\">Denver,Colo.</td><tdalign=\"right\"valign=\"top\">39</td><tdalign=\"right\"valign=\"top\">45</td><tdalign=\"right\"valign=\"top\">105</td><tdalign=\"right\"valign=\"top\">0</td><tdalign=\"right\"valign=\"top\">10:00a.m.</td></tr>',\n",
       " '<tdalign=\"left\"valign=\"top\">DesMoines,Iowa</td><tdalign=\"right\"valign=\"top\">41</td><tdalign=\"right\"valign=\"top\">35</td><tdalign=\"right\"valign=\"top\">93</td><tdalign=\"right\"valign=\"top\">37</td><tdalign=\"right\"valign=\"top\">11:00a.m.</td></tr>',\n",
       " '<tdalign=\"left\"valign=\"top\">Detroit,Mich.</td><tdalign=\"right\"valign=\"top\">42</td><tdalign=\"right\"valign=\"top\">20</td><tdalign=\"right\"valign=\"top\">83</td><tdalign=\"right\"valign=\"top\">3</td><tdalign=\"right\"valign=\"top\">12:00noon</td></tr>',\n",
       " '<tdalign=\"left\"valign=\"top\">Dubuque,Iowa</td><tdalign=\"right\"valign=\"top\">42</td><tdalign=\"right\"valign=\"top\">31</td><tdalign=\"right\"valign=\"top\">90</td><tdalign=\"right\"valign=\"top\">40</td><tdalign=\"right\"valign=\"top\">11:00a.m.</td></tr>',\n",
       " '<tdalign=\"left\"valign=\"top\">Duluth,Minn.</td><tdalign=\"right\"valign=\"top\">46</td><tdalign=\"right\"valign=\"top\">49</td><tdalign=\"right\"valign=\"top\">92</td><tdalign=\"right\"valign=\"top\">5</td><tdalign=\"right\"valign=\"top\">11:00a.m.</td></tr>',\n",
       " '<tdalign=\"left\"valign=\"top\">Eastport,Maine</td><tdalign=\"right\"valign=\"top\">44</td><tdalign=\"right\"valign=\"top\">54</td><tdalign=\"right\"valign=\"top\">67</td><tdalign=\"right\"valign=\"top\">0</td><tdalign=\"right\"valign=\"top\">12:00noon</td></tr>',\n",
       " '<tdalign=\"left\"valign=\"top\">Edmonton,Alb.,Can.</td><tdalign=\"right\"valign=\"top\">53</td><tdalign=\"right\"valign=\"top\">34</td><tdalign=\"right\"valign=\"top\">113</td><tdalign=\"right\"valign=\"top\">28</td><tdalign=\"right\"valign=\"top\">10:00a.m.</td></tr>',\n",
       " '<tdalign=\"left\"valign=\"top\">ElCentro,Calif.</td><tdalign=\"right\"valign=\"top\">32</td><tdalign=\"right\"valign=\"top\">38</td><tdalign=\"right\"valign=\"top\">115</td><tdalign=\"right\"valign=\"top\">33</td><tdalign=\"right\"valign=\"top\">9:00a.m.</td></tr>',\n",
       " '<tdalign=\"left\"valign=\"top\">ElPaso,Tex.</td><tdalign=\"right\"valign=\"top\">31</td><tdalign=\"right\"valign=\"top\">46</td><tdalign=\"right\"valign=\"top\">106</td><tdalign=\"right\"valign=\"top\">29</td><tdalign=\"right\"valign=\"top\">10:00a.m.</td></tr>',\n",
       " '<tdalign=\"left\"valign=\"top\">Eugene,Ore.</td><tdalign=\"right\"valign=\"top\">44</td><tdalign=\"right\"valign=\"top\">3</td><tdalign=\"right\"valign=\"top\">123</td><tdalign=\"right\"valign=\"top\">5</td><tdalign=\"right\"valign=\"top\">9:00a.m.</td></tr>',\n",
       " '<tdalign=\"left\"valign=\"top\">Fargo,N.D.</td><tdalign=\"right\"valign=\"top\">46</td><tdalign=\"right\"valign=\"top\">52</td><tdalign=\"right\"valign=\"top\">96</td><tdalign=\"right\"valign=\"top\">48</td><tdalign=\"right\"valign=\"top\">11:00a.m.</td></tr>',\n",
       " '<tdalign=\"left\"valign=\"top\">Flagstaff,Ariz.</td><tdalign=\"right\"valign=\"top\">35</td><tdalign=\"right\"valign=\"top\">13</td><tdalign=\"right\"valign=\"top\">111</td><tdalign=\"right\"valign=\"top\">41</td><tdalign=\"right\"valign=\"top\">10:00a.m.</td></tr>',\n",
       " '<tdalign=\"left\"valign=\"top\">FortWorth,Tex.</td><tdalign=\"right\"valign=\"top\">32</td><tdalign=\"right\"valign=\"top\">43</td><tdalign=\"right\"valign=\"top\">97</td><tdalign=\"right\"valign=\"top\">19</td><tdalign=\"right\"valign=\"top\">11:00a.m.</td></tr>',\n",
       " '<tdalign=\"left\"valign=\"top\">Fresno,Calif.</td><tdalign=\"right\"valign=\"top\">36</td><tdalign=\"right\"valign=\"top\">44</td><tdalign=\"right\"valign=\"top\">119</td><tdalign=\"right\"valign=\"top\">48</td><tdalign=\"right\"valign=\"top\">9:00a.m.</td></tr>',\n",
       " '<tdalign=\"left\"valign=\"top\">GrandJunction,Colo.</td><tdalign=\"right\"valign=\"top\">39</td><tdalign=\"right\"valign=\"top\">5</td><tdalign=\"right\"valign=\"top\">108</td><tdalign=\"right\"valign=\"top\">33</td><tdalign=\"right\"valign=\"top\">10:00a.m.</td></tr>',\n",
       " '<tdalign=\"left\"valign=\"top\">GrandRapids,Mich.</td><tdalign=\"right\"valign=\"top\">42</td><tdalign=\"right\"valign=\"top\">58</td><tdalign=\"right\"valign=\"top\">85</td><tdalign=\"right\"valign=\"top\">40</td><tdalign=\"right\"valign=\"top\">12:00noon</td></tr>',\n",
       " '<tdalign=\"left\"valign=\"top\">Havre,Mont.</td><tdalign=\"right\"valign=\"top\">48</td><tdalign=\"right\"valign=\"top\">33</td><tdalign=\"right\"valign=\"top\">109</td><tdalign=\"right\"valign=\"top\">43</td><tdalign=\"right\"valign=\"top\">10:00a.m.</td></tr>',\n",
       " '<tdalign=\"left\"valign=\"top\">Helena,Mont.</td><tdalign=\"right\"valign=\"top\">46</td><tdalign=\"right\"valign=\"top\">35</td><tdalign=\"right\"valign=\"top\">112</td><tdalign=\"right\"valign=\"top\">2</td><tdalign=\"right\"valign=\"top\">10:00a.m.</td></tr>',\n",
       " '<tdalign=\"left\"valign=\"top\">Honolulu,Hawaii</td><tdalign=\"right\"valign=\"top\">21</td><tdalign=\"right\"valign=\"top\">18</td><tdalign=\"right\"valign=\"top\">157</td><tdalign=\"right\"valign=\"top\">50</td><tdalign=\"right\"valign=\"top\">7:00a.m.</td></tr>',\n",
       " '<tdalign=\"left\"valign=\"top\">HotSprings,Ark.</td><tdalign=\"right\"valign=\"top\">34</td><tdalign=\"right\"valign=\"top\">31</td><tdalign=\"right\"valign=\"top\">93</td><tdalign=\"right\"valign=\"top\">3</td><tdalign=\"right\"valign=\"top\">11:00a.m.</td></tr>',\n",
       " '<tdalign=\"left\"valign=\"top\">Houston,Tex.</td><tdalign=\"right\"valign=\"top\">29</td><tdalign=\"right\"valign=\"top\">45</td><tdalign=\"right\"valign=\"top\">95</td><tdalign=\"right\"valign=\"top\">21</td><tdalign=\"right\"valign=\"top\">11:00a.m.</td></tr>',\n",
       " '<tdalign=\"left\"valign=\"top\">IdahoFalls,Idaho</td><tdalign=\"right\"valign=\"top\">43</td><tdalign=\"right\"valign=\"top\">30</td><tdalign=\"right\"valign=\"top\">112</td><tdalign=\"right\"valign=\"top\">1</td><tdalign=\"right\"valign=\"top\">10:00a.m.</td></tr>',\n",
       " '<tdalign=\"left\"valign=\"top\">Indianapolis,Ind.</td><tdalign=\"right\"valign=\"top\">39</td><tdalign=\"right\"valign=\"top\">46</td><tdalign=\"right\"valign=\"top\">86</td><tdalign=\"right\"valign=\"top\">10</td><tdalign=\"right\"valign=\"top\">12:00noon</td></tr>',\n",
       " '<tdalign=\"left\"valign=\"top\">Jackson,Miss.</td><tdalign=\"right\"valign=\"top\">32</td><tdalign=\"right\"valign=\"top\">20</td><tdalign=\"right\"valign=\"top\">90</td><tdalign=\"right\"valign=\"top\">12</td><tdalign=\"right\"valign=\"top\">11:00a.m.</td></tr>',\n",
       " '<tdalign=\"left\"valign=\"top\">Jacksonville,Fla.</td><tdalign=\"right\"valign=\"top\">30</td><tdalign=\"right\"valign=\"top\">22</td><tdalign=\"right\"valign=\"top\">81</td><tdalign=\"right\"valign=\"top\">40</td><tdalign=\"right\"valign=\"top\">12:00noon</td></tr>',\n",
       " '<tdalign=\"left\"valign=\"top\">Juneau,Alaska</td><tdalign=\"right\"valign=\"top\">58</td><tdalign=\"right\"valign=\"top\">18</td><tdalign=\"right\"valign=\"top\">134</td><tdalign=\"right\"valign=\"top\">24</td><tdalign=\"right\"valign=\"top\">8:00a.m.</td></tr>',\n",
       " '<tdalign=\"left\"valign=\"top\">KansasCity,Mo.</td><tdalign=\"right\"valign=\"top\">39</td><tdalign=\"right\"valign=\"top\">6</td><tdalign=\"right\"valign=\"top\">94</td><tdalign=\"right\"valign=\"top\">35</td><tdalign=\"right\"valign=\"top\">11:00a.m.</td></tr>',\n",
       " '<tdalign=\"left\"valign=\"top\">KeyWest,Fla.</td><tdalign=\"right\"valign=\"top\">24</td><tdalign=\"right\"valign=\"top\">33</td><tdalign=\"right\"valign=\"top\">81</td><tdalign=\"right\"valign=\"top\">48</td><tdalign=\"right\"valign=\"top\">12:00noon</td></tr>',\n",
       " '<tdalign=\"left\"valign=\"top\">Kingston,Ont.,Can.</td><tdalign=\"right\"valign=\"top\">44</td><tdalign=\"right\"valign=\"top\">15</td><tdalign=\"right\"valign=\"top\">76</td><tdalign=\"right\"valign=\"top\">30</td><tdalign=\"right\"valign=\"top\">12:00noon</td></tr>',\n",
       " '<tdalign=\"left\"valign=\"top\">KlamathFalls,Ore.</td><tdalign=\"right\"valign=\"top\">42</td><tdalign=\"right\"valign=\"top\">10</td><tdalign=\"right\"valign=\"top\">121</td><tdalign=\"right\"valign=\"top\">44</td><tdalign=\"right\"valign=\"top\">9:00a.m.</td></tr>',\n",
       " '<tdalign=\"left\"valign=\"top\">Knoxville,Tenn.</td><tdalign=\"right\"valign=\"top\">35</td><tdalign=\"right\"valign=\"top\">57</td><tdalign=\"right\"valign=\"top\">83</td><tdalign=\"right\"valign=\"top\">56</td><tdalign=\"right\"valign=\"top\">12:00noon</td></tr>',\n",
       " '<tdalign=\"left\"valign=\"top\">LasVegas,Nev.</td><tdalign=\"right\"valign=\"top\">36</td><tdalign=\"right\"valign=\"top\">10</td><tdalign=\"right\"valign=\"top\">115</td><tdalign=\"right\"valign=\"top\">12</td><tdalign=\"right\"valign=\"top\">9:00a.m.</td></tr>',\n",
       " '<tdalign=\"left\"valign=\"top\">Lewiston,Idaho</td><tdalign=\"right\"valign=\"top\">46</td><tdalign=\"right\"valign=\"top\">24</td><tdalign=\"right\"valign=\"top\">117</td><tdalign=\"right\"valign=\"top\">2</td><tdalign=\"right\"valign=\"top\">9:00a.m.</td></tr>',\n",
       " '<tdalign=\"left\"valign=\"top\">Lincoln,Neb.</td><tdalign=\"right\"valign=\"top\">40</td><tdalign=\"right\"valign=\"top\">50</td><tdalign=\"right\"valign=\"top\">96</td><tdalign=\"right\"valign=\"top\">40</td><tdalign=\"right\"valign=\"top\">11:00a.m.</td></tr>',\n",
       " '<tdalign=\"left\"valign=\"top\">London,Ont.,Can.</td><tdalign=\"right\"valign=\"top\">43</td><tdalign=\"right\"valign=\"top\">2</td><tdalign=\"right\"valign=\"top\">81</td><tdalign=\"right\"valign=\"top\">34</td><tdalign=\"right\"valign=\"top\">12:00noon</td></tr>',\n",
       " '<tdalign=\"left\"valign=\"top\">LongBeach,Calif.</td><tdalign=\"right\"valign=\"top\">33</td><tdalign=\"right\"valign=\"top\">46</td><tdalign=\"right\"valign=\"top\">118</td><tdalign=\"right\"valign=\"top\">11</td><tdalign=\"right\"valign=\"top\">9:00a.m.</td></tr>',\n",
       " '<tdalign=\"left\"valign=\"top\">LosAngeles,Calif.</td><tdalign=\"right\"valign=\"top\">34</td><tdalign=\"right\"valign=\"top\">3</td><tdalign=\"right\"valign=\"top\">118</td><tdalign=\"right\"valign=\"top\">15</td><tdalign=\"right\"valign=\"top\">9:00a.m.</td></tr>',\n",
       " '<tdalign=\"left\"valign=\"top\">Louisville,Ky.</td><tdalign=\"right\"valign=\"top\">38</td><tdalign=\"right\"valign=\"top\">15</td><tdalign=\"right\"valign=\"top\">85</td><tdalign=\"right\"valign=\"top\">46</td><tdalign=\"right\"valign=\"top\">12:00noon</td></tr>',\n",
       " '<tdalign=\"left\"valign=\"top\">Manchester,N.H.</td><tdalign=\"right\"valign=\"top\">43</td><tdalign=\"right\"valign=\"top\">0</td><tdalign=\"right\"valign=\"top\">71</td><tdalign=\"right\"valign=\"top\">30</td><tdalign=\"right\"valign=\"top\">12:00noon</td></tr>',\n",
       " '<tdalign=\"left\"valign=\"top\">Memphis,Tenn.</td><tdalign=\"right\"valign=\"top\">35</td><tdalign=\"right\"valign=\"top\">9</td><tdalign=\"right\"valign=\"top\">90</td><tdalign=\"right\"valign=\"top\">3</td><tdalign=\"right\"valign=\"top\">11:00a.m.</td></tr>',\n",
       " '<tdalign=\"left\"valign=\"top\">Miami,Fla.</td><tdalign=\"right\"valign=\"top\">25</td><tdalign=\"right\"valign=\"top\">46</td><tdalign=\"right\"valign=\"top\">80</td><tdalign=\"right\"valign=\"top\">12</td><tdalign=\"right\"valign=\"top\">12:00noon</td></tr>',\n",
       " '<tdalign=\"left\"valign=\"top\">Milwaukee,Wis.</td><tdalign=\"right\"valign=\"top\">43</td><tdalign=\"right\"valign=\"top\">2</td><tdalign=\"right\"valign=\"top\">87</td><tdalign=\"right\"valign=\"top\">55</td><tdalign=\"right\"valign=\"top\">11:00a.m.</td></tr>',\n",
       " '<tdalign=\"left\"valign=\"top\">Minneapolis,Minn.</td><tdalign=\"right\"valign=\"top\">44</td><tdalign=\"right\"valign=\"top\">59</td><tdalign=\"right\"valign=\"top\">93</td><tdalign=\"right\"valign=\"top\">14</td><tdalign=\"right\"valign=\"top\">11:00a.m.</td></tr>',\n",
       " '<tdalign=\"left\"valign=\"top\">Mobile,Ala.</td><tdalign=\"right\"valign=\"top\">30</td><tdalign=\"right\"valign=\"top\">42</td><tdalign=\"right\"valign=\"top\">88</td><tdalign=\"right\"valign=\"top\">3</td><tdalign=\"right\"valign=\"top\">11:00a.m.</td></tr>',\n",
       " '<tdalign=\"left\"valign=\"top\">Montgomery,Ala.</td><tdalign=\"right\"valign=\"top\">32</td><tdalign=\"right\"valign=\"top\">21</td><tdalign=\"right\"valign=\"top\">86</td><tdalign=\"right\"valign=\"top\">18</td><tdalign=\"right\"valign=\"top\">11:00a.m.</td></tr>',\n",
       " '<tdalign=\"left\"valign=\"top\">Montpelier,Vt.</td><tdalign=\"right\"valign=\"top\">44</td><tdalign=\"right\"valign=\"top\">15</td><tdalign=\"right\"valign=\"top\">72</td><tdalign=\"right\"valign=\"top\">32</td><tdalign=\"right\"valign=\"top\">12:00noon</td></tr>',\n",
       " '<tdalign=\"left\"valign=\"top\">Montreal,Que.,Can.</td><tdalign=\"right\"valign=\"top\">45</td><tdalign=\"right\"valign=\"top\">30</td><tdalign=\"right\"valign=\"top\">73</td><tdalign=\"right\"valign=\"top\">35</td><tdalign=\"right\"valign=\"top\">12:00noon</td></tr>',\n",
       " '<tdalign=\"left\"valign=\"top\">MooseJaw,Sask.,Can.</td><tdalign=\"right\"valign=\"top\">50</td><tdalign=\"right\"valign=\"top\">37</td><tdalign=\"right\"valign=\"top\">105</td><tdalign=\"right\"valign=\"top\">31</td><tdalign=\"right\"valign=\"top\">11:00a.m.</td></tr>',\n",
       " '<tdalign=\"left\"valign=\"top\">Nashville,Tenn.</td><tdalign=\"right\"valign=\"top\">36</td><tdalign=\"right\"valign=\"top\">10</td><tdalign=\"right\"valign=\"top\">86</td><tdalign=\"right\"valign=\"top\">47</td><tdalign=\"right\"valign=\"top\">11:00a.m.</td></tr>',\n",
       " '<tdalign=\"left\"valign=\"top\">Nelson,B.C.,Can.</td><tdalign=\"right\"valign=\"top\">49</td><tdalign=\"right\"valign=\"top\">30</td><tdalign=\"right\"valign=\"top\">117</td><tdalign=\"right\"valign=\"top\">17</td><tdalign=\"right\"valign=\"top\">9:00a.m.</td></tr>',\n",
       " '<tdalign=\"left\"valign=\"top\">Newark,N.J.</td><tdalign=\"right\"valign=\"top\">40</td><tdalign=\"right\"valign=\"top\">44</td><tdalign=\"right\"valign=\"top\">74</td><tdalign=\"right\"valign=\"top\">10</td><tdalign=\"right\"valign=\"top\">12:00noon</td></tr>',\n",
       " '<tdalign=\"left\"valign=\"top\">NewHaven,Conn.</td><tdalign=\"right\"valign=\"top\">41</td><tdalign=\"right\"valign=\"top\">19</td><tdalign=\"right\"valign=\"top\">72</td><tdalign=\"right\"valign=\"top\">55</td><tdalign=\"right\"valign=\"top\">12:00noon</td></tr>',\n",
       " '<tdalign=\"left\"valign=\"top\">NewOrleans,La.</td><tdalign=\"right\"valign=\"top\">29</td><tdalign=\"right\"valign=\"top\">57</td><tdalign=\"right\"valign=\"top\">90</td><tdalign=\"right\"valign=\"top\">4</td><tdalign=\"right\"valign=\"top\">11:00a.m.</td></tr>',\n",
       " '<tdalign=\"left\"valign=\"top\">NewYork,N.Y.</td><tdalign=\"right\"valign=\"top\">40</td><tdalign=\"right\"valign=\"top\">47</td><tdalign=\"right\"valign=\"top\">73</td><tdalign=\"right\"valign=\"top\">58</td><tdalign=\"right\"valign=\"top\">12:00noon</td></tr>',\n",
       " '<tdalign=\"left\"valign=\"top\">Nome,Alaska</td><tdalign=\"right\"valign=\"top\">64</td><tdalign=\"right\"valign=\"top\">25</td><tdalign=\"right\"valign=\"top\">165</td><tdalign=\"right\"valign=\"top\">30</td><tdalign=\"right\"valign=\"top\">8:00a.m.</td></tr>',\n",
       " '<tdalign=\"left\"valign=\"top\">Oakland,Calif.</td><tdalign=\"right\"valign=\"top\">37</td><tdalign=\"right\"valign=\"top\">48</td><tdalign=\"right\"valign=\"top\">122</td><tdalign=\"right\"valign=\"top\">16</td><tdalign=\"right\"valign=\"top\">9:00a.m.</td></tr>',\n",
       " '<tdalign=\"left\"valign=\"top\">OklahomaCity,Okla.</td><tdalign=\"right\"valign=\"top\">35</td><tdalign=\"right\"valign=\"top\">26</td><tdalign=\"right\"valign=\"top\">97</td><tdalign=\"right\"valign=\"top\">28</td><tdalign=\"right\"valign=\"top\">11:00a.m.</td></tr>',\n",
       " '<tdalign=\"left\"valign=\"top\">Omaha,Neb.</td><tdalign=\"right\"valign=\"top\">41</td><tdalign=\"right\"valign=\"top\">15</td><tdalign=\"right\"valign=\"top\">95</td><tdalign=\"right\"valign=\"top\">56</td><tdalign=\"right\"valign=\"top\">11:00a.m.</td></tr>',\n",
       " '<tdalign=\"left\"valign=\"top\">Ottawa,Ont.,Can.</td><tdalign=\"right\"valign=\"top\">45</td><tdalign=\"right\"valign=\"top\">24</td><tdalign=\"right\"valign=\"top\">75</td><tdalign=\"right\"valign=\"top\">43</td><tdalign=\"right\"valign=\"top\">12:00noon</td></tr>',\n",
       " '<tdalign=\"left\"valign=\"top\">Philadelphia,Pa.</td><tdalign=\"right\"valign=\"top\">39</td><tdalign=\"right\"valign=\"top\">57</td><tdalign=\"right\"valign=\"top\">75</td><tdalign=\"right\"valign=\"top\">10</td><tdalign=\"right\"valign=\"top\">12:00noon</td></tr>',\n",
       " '<tdalign=\"left\"valign=\"top\">Phoenix,Ariz.</td><tdalign=\"right\"valign=\"top\">33</td><tdalign=\"right\"valign=\"top\">29</td><tdalign=\"right\"valign=\"top\">112</td><tdalign=\"right\"valign=\"top\">4</td><tdalign=\"right\"valign=\"top\">10:00a.m.</td></tr>',\n",
       " '<tdalign=\"left\"valign=\"top\">Pierre,S.D.</td><tdalign=\"right\"valign=\"top\">44</td><tdalign=\"right\"valign=\"top\">22</td><tdalign=\"right\"valign=\"top\">100</td><tdalign=\"right\"valign=\"top\">21</td><tdalign=\"right\"valign=\"top\">11:00a.m.</td></tr>',\n",
       " '<tdalign=\"left\"valign=\"top\">Pittsburgh,Pa.</td><tdalign=\"right\"valign=\"top\">40</td><tdalign=\"right\"valign=\"top\">27</td><tdalign=\"right\"valign=\"top\">79</td><tdalign=\"right\"valign=\"top\">57</td><tdalign=\"right\"valign=\"top\">12:00noon</td></tr>',\n",
       " '<tdalign=\"left\"valign=\"top\">Portland,Maine</td><tdalign=\"right\"valign=\"top\">43</td><tdalign=\"right\"valign=\"top\">40</td><tdalign=\"right\"valign=\"top\">70</td><tdalign=\"right\"valign=\"top\">15</td><tdalign=\"right\"valign=\"top\">12:00noon</td></tr>',\n",
       " '<tdalign=\"left\"valign=\"top\">Portland,Ore.</td><tdalign=\"right\"valign=\"top\">45</td><tdalign=\"right\"valign=\"top\">31</td><tdalign=\"right\"valign=\"top\">122</td><tdalign=\"right\"valign=\"top\">41</td><tdalign=\"right\"valign=\"top\">9:00a.m.</td></tr>',\n",
       " '<tdalign=\"left\"valign=\"top\">Providence,R.I.</td><tdalign=\"right\"valign=\"top\">41</td><tdalign=\"right\"valign=\"top\">50</td><tdalign=\"right\"valign=\"top\">71</td><tdalign=\"right\"valign=\"top\">24</td><tdalign=\"right\"valign=\"top\">12:00noon</td></tr>',\n",
       " '<tdalign=\"left\"valign=\"top\">Quebec,Que.,Can.</td><tdalign=\"right\"valign=\"top\">46</td><tdalign=\"right\"valign=\"top\">49</td><tdalign=\"right\"valign=\"top\">71</td><tdalign=\"right\"valign=\"top\">11</td><tdalign=\"right\"valign=\"top\">12:00noon</td></tr>',\n",
       " '<tdalign=\"left\"valign=\"top\">Raleigh,N.C.</td><tdalign=\"right\"valign=\"top\">35</td><tdalign=\"right\"valign=\"top\">46</td><tdalign=\"right\"valign=\"top\">78</td><tdalign=\"right\"valign=\"top\">39</td><tdalign=\"right\"valign=\"top\">12:00noon</td></tr>',\n",
       " '<tdalign=\"left\"valign=\"top\">Reno,Nev.</td><tdalign=\"right\"valign=\"top\">39</td><tdalign=\"right\"valign=\"top\">30</td><tdalign=\"right\"valign=\"top\">119</td><tdalign=\"right\"valign=\"top\">49</td><tdalign=\"right\"valign=\"top\">9:00a.m.</td></tr>',\n",
       " '<tdalign=\"left\"valign=\"top\">Richfield,Utah</td><tdalign=\"right\"valign=\"top\">38</td><tdalign=\"right\"valign=\"top\">46</td><tdalign=\"right\"valign=\"top\">112</td><tdalign=\"right\"valign=\"top\">5</td><tdalign=\"right\"valign=\"top\">10:00a.m.</td></tr>',\n",
       " '<tdalign=\"left\"valign=\"top\">Richmond,Va.</td><tdalign=\"right\"valign=\"top\">37</td><tdalign=\"right\"valign=\"top\">33</td><tdalign=\"right\"valign=\"top\">77</td><tdalign=\"right\"valign=\"top\">29</td><tdalign=\"right\"valign=\"top\">12:00noon</td></tr>',\n",
       " '<tdalign=\"left\"valign=\"top\">Roanoke,Va.</td><tdalign=\"right\"valign=\"top\">37</td><tdalign=\"right\"valign=\"top\">17</td><tdalign=\"right\"valign=\"top\">79</td><tdalign=\"right\"valign=\"top\">57</td><tdalign=\"right\"valign=\"top\">12:00noon</td></tr>',\n",
       " '<tdalign=\"left\"valign=\"top\">Sacramento,Calif.</td><tdalign=\"right\"valign=\"top\">38</td><tdalign=\"right\"valign=\"top\">35</td><tdalign=\"right\"valign=\"top\">121</td><tdalign=\"right\"valign=\"top\">30</td><tdalign=\"right\"valign=\"top\">9:00a.m.</td></tr>',\n",
       " '<tdalign=\"left\"valign=\"top\">St.John,N.B.,Can.</td><tdalign=\"right\"valign=\"top\">45</td><tdalign=\"right\"valign=\"top\">18</td><tdalign=\"right\"valign=\"top\">66</td><tdalign=\"right\"valign=\"top\">10</td><tdalign=\"right\"valign=\"top\">1:00p.m.</td></tr>',\n",
       " '<tdalign=\"left\"valign=\"top\">St.Louis,Mo.</td><tdalign=\"right\"valign=\"top\">38</td><tdalign=\"right\"valign=\"top\">35</td><tdalign=\"right\"valign=\"top\">90</td><tdalign=\"right\"valign=\"top\">12</td><tdalign=\"right\"valign=\"top\">11:00a.m.</td></tr>',\n",
       " '<tdalign=\"left\"valign=\"top\">SaltLakeCity,Utah</td><tdalign=\"right\"valign=\"top\">40</td><tdalign=\"right\"valign=\"top\">46</td><tdalign=\"right\"valign=\"top\">111</td><tdalign=\"right\"valign=\"top\">54</td><tdalign=\"right\"valign=\"top\">10:00a.m.</td></tr>',\n",
       " '<tdalign=\"left\"valign=\"top\">SanAntonio,Tex.</td><tdalign=\"right\"valign=\"top\">29</td><tdalign=\"right\"valign=\"top\">23</td><tdalign=\"right\"valign=\"top\">98</td><tdalign=\"right\"valign=\"top\">33</td><tdalign=\"right\"valign=\"top\">11:00a.m.</td></tr>',\n",
       " '<tdalign=\"left\"valign=\"top\">SanDiego,Calif.</td><tdalign=\"right\"valign=\"top\">32</td><tdalign=\"right\"valign=\"top\">42</td><tdalign=\"right\"valign=\"top\">117</td><tdalign=\"right\"valign=\"top\">10</td><tdalign=\"right\"valign=\"top\">9:00a.m.</td></tr>',\n",
       " '<tdalign=\"left\"valign=\"top\">SanFrancisco,Calif.</td><tdalign=\"right\"valign=\"top\">37</td><tdalign=\"right\"valign=\"top\">47</td><tdalign=\"right\"valign=\"top\">122</td><tdalign=\"right\"valign=\"top\">26</td><tdalign=\"right\"valign=\"top\">9:00a.m.</td></tr>',\n",
       " '<tdalign=\"left\"valign=\"top\">SanJose,Calif.</td><tdalign=\"right\"valign=\"top\">37</td><tdalign=\"right\"valign=\"top\">20</td><tdalign=\"right\"valign=\"top\">121</td><tdalign=\"right\"valign=\"top\">53</td><tdalign=\"right\"valign=\"top\">9:00a.m.</td></tr>',\n",
       " '<tdalign=\"left\"valign=\"top\">SanJuan,P.R.</td><tdalign=\"right\"valign=\"top\">18</td><tdalign=\"right\"valign=\"top\">30</td><tdalign=\"right\"valign=\"top\">66</td><tdalign=\"right\"valign=\"top\">10</td><tdalign=\"right\"valign=\"top\">1:00p.m.</td></tr>',\n",
       " '<tdalign=\"left\"valign=\"top\">SantaFe,N.M.</td><tdalign=\"right\"valign=\"top\">35</td><tdalign=\"right\"valign=\"top\">41</td><tdalign=\"right\"valign=\"top\">105</td><tdalign=\"right\"valign=\"top\">57</td><tdalign=\"right\"valign=\"top\">10:00a.m.</td></tr>',\n",
       " '<tdalign=\"left\"valign=\"top\">Savannah,Ga.</td><tdalign=\"right\"valign=\"top\">32</td><tdalign=\"right\"valign=\"top\">5</td><tdalign=\"right\"valign=\"top\">81</td><tdalign=\"right\"valign=\"top\">5</td><tdalign=\"right\"valign=\"top\">12:00noon</td></tr>',\n",
       " '<tdalign=\"left\"valign=\"top\">Seattle,Wash.</td><tdalign=\"right\"valign=\"top\">47</td><tdalign=\"right\"valign=\"top\">37</td><tdalign=\"right\"valign=\"top\">122</td><tdalign=\"right\"valign=\"top\">20</td><tdalign=\"right\"valign=\"top\">9:00a.m.</td></tr>',\n",
       " '<tdalign=\"left\"valign=\"top\">Shreveport,La.</td><tdalign=\"right\"valign=\"top\">32</td><tdalign=\"right\"valign=\"top\">28</td><tdalign=\"right\"valign=\"top\">93</td><tdalign=\"right\"valign=\"top\">42</td><tdalign=\"right\"valign=\"top\">11:00a.m.</td></tr>',\n",
       " '<tdalign=\"left\"valign=\"top\">SiouxFalls,S.D.</td><tdalign=\"right\"valign=\"top\">43</td><tdalign=\"right\"valign=\"top\">33</td><tdalign=\"right\"valign=\"top\">96</td><tdalign=\"right\"valign=\"top\">44</td><tdalign=\"right\"valign=\"top\">11:00a.m.</td></tr>',\n",
       " '<tdalign=\"left\"valign=\"top\">Sitka,Alaska</td><tdalign=\"right\"valign=\"top\">57</td><tdalign=\"right\"valign=\"top\">10</td><tdalign=\"right\"valign=\"top\">135</td><tdalign=\"right\"valign=\"top\">15</td><tdalign=\"right\"valign=\"top\">8:00a.m.</td></tr>',\n",
       " '<tdalign=\"left\"valign=\"top\">Spokane,Wash.</td><tdalign=\"right\"valign=\"top\">47</td><tdalign=\"right\"valign=\"top\">40</td><tdalign=\"right\"valign=\"top\">117</td><tdalign=\"right\"valign=\"top\">26</td><tdalign=\"right\"valign=\"top\">9:00a.m.</td></tr>',\n",
       " '<tdalign=\"left\"valign=\"top\">Springfield,Ill.</td><tdalign=\"right\"valign=\"top\">39</td><tdalign=\"right\"valign=\"top\">48</td><tdalign=\"right\"valign=\"top\">89</td><tdalign=\"right\"valign=\"top\">38</td><tdalign=\"right\"valign=\"top\">11:00a.m.</td></tr>',\n",
       " '<tdalign=\"left\"valign=\"top\">Springfield,Mass.</td><tdalign=\"right\"valign=\"top\">42</td><tdalign=\"right\"valign=\"top\">6</td><tdalign=\"right\"valign=\"top\">72</td><tdalign=\"right\"valign=\"top\">34</td><tdalign=\"right\"valign=\"top\">12:00noon</td></tr>',\n",
       " '<tdalign=\"left\"valign=\"top\">Springfield,Mo.</td><tdalign=\"right\"valign=\"top\">37</td><tdalign=\"right\"valign=\"top\">13</td><tdalign=\"right\"valign=\"top\">93</td><tdalign=\"right\"valign=\"top\">17</td><tdalign=\"right\"valign=\"top\">11:00a.m.</td></tr>',\n",
       " '<tdalign=\"left\"valign=\"top\">Syracuse,N.Y.</td><tdalign=\"right\"valign=\"top\">43</td><tdalign=\"right\"valign=\"top\">2</td><tdalign=\"right\"valign=\"top\">76</td><tdalign=\"right\"valign=\"top\">8</td><tdalign=\"right\"valign=\"top\">12:00noon</td></tr>',\n",
       " '<tdalign=\"left\"valign=\"top\">Tampa,Fla.</td><tdalign=\"right\"valign=\"top\">27</td><tdalign=\"right\"valign=\"top\">57</td><tdalign=\"right\"valign=\"top\">82</td><tdalign=\"right\"valign=\"top\">27</td><tdalign=\"right\"valign=\"top\">12:00noon</td></tr>',\n",
       " '<tdalign=\"left\"valign=\"top\">Toledo,Ohio</td><tdalign=\"right\"valign=\"top\">41</td><tdalign=\"right\"valign=\"top\">39</td><tdalign=\"right\"valign=\"top\">83</td><tdalign=\"right\"valign=\"top\">33</td><tdalign=\"right\"valign=\"top\">12:00noon</td></tr>',\n",
       " '<tdalign=\"left\"valign=\"top\">Toronto,Ont.,Can.</td><tdalign=\"right\"valign=\"top\">43</td><tdalign=\"right\"valign=\"top\">40</td><tdalign=\"right\"valign=\"top\">79</td><tdalign=\"right\"valign=\"top\">24</td><tdalign=\"right\"valign=\"top\">12:00noon</td></tr>',\n",
       " '<tdalign=\"left\"valign=\"top\">Tulsa,Okla.</td><tdalign=\"right\"valign=\"top\">36</td><tdalign=\"right\"valign=\"top\">09</td><tdalign=\"right\"valign=\"top\">95</td><tdalign=\"right\"valign=\"top\">59</td><tdalign=\"right\"valign=\"top\">11:00a.m.</td></tr>',\n",
       " '<tdalign=\"left\"valign=\"top\">Vancouver,B.C.,Can.</td><tdalign=\"right\"valign=\"top\">49</td><tdalign=\"right\"valign=\"top\">13</td><tdalign=\"right\"valign=\"top\">123</td><tdalign=\"right\"valign=\"top\">06</td><tdalign=\"right\"valign=\"top\">9:00a.m.</td></tr>',\n",
       " '<tdalign=\"left\"valign=\"top\">Victoria,B.C.,Can.</td><tdalign=\"right\"valign=\"top\">48</td><tdalign=\"right\"valign=\"top\">25</td><tdalign=\"right\"valign=\"top\">123</td><tdalign=\"right\"valign=\"top\">21</td><tdalign=\"right\"valign=\"top\">9:00a.m.</td></tr>',\n",
       " '<tdalign=\"left\"valign=\"top\">VirginiaBeach,Va.</td><tdalign=\"right\"valign=\"top\">36</td><tdalign=\"right\"valign=\"top\">51</td><tdalign=\"right\"valign=\"top\">75</td><tdalign=\"right\"valign=\"top\">58</td><tdalign=\"right\"valign=\"top\">12:00noon</td></tr>',\n",
       " '<tdalign=\"left\"valign=\"top\">Washington,D.C.</td><tdalign=\"right\"valign=\"top\">38</td><tdalign=\"right\"valign=\"top\">53</td><tdalign=\"right\"valign=\"top\">77</td><tdalign=\"right\"valign=\"top\">02</td><tdalign=\"right\"valign=\"top\">12:00noon</td></tr>',\n",
       " '<tdalign=\"left\"valign=\"top\">Wichita,Kan.</td><tdalign=\"right\"valign=\"top\">37</td><tdalign=\"right\"valign=\"top\">43</td><tdalign=\"right\"valign=\"top\">97</td><tdalign=\"right\"valign=\"top\">17</td><tdalign=\"right\"valign=\"top\">11:00a.m.</td></tr>',\n",
       " '<tdalign=\"left\"valign=\"top\">Wilmington,N.C.</td><tdalign=\"right\"valign=\"top\">34</td><tdalign=\"right\"valign=\"top\">14</td><tdalign=\"right\"valign=\"top\">77</td><tdalign=\"right\"valign=\"top\">57</td><tdalign=\"right\"valign=\"top\">12:00noon</td></tr>',\n",
       " '<tdalign=\"left\"valign=\"top\">Winnipeg,Man.,Can.</td><tdalign=\"right\"valign=\"top\">49</td><tdalign=\"right\"valign=\"top\">54</td><tdalign=\"right\"valign=\"top\">97</td><tdalign=\"right\"valign=\"top\">7</td><tdalign=\"right\"valign=\"top\">11:00a.m.</td></tr></table>']"
      ]
     },
     "execution_count": 57,
     "metadata": {},
     "output_type": "execute_result"
    }
   ],
   "source": [
    "instance_split = html_doc.split(\"<tr>\")\n",
    "instance_split"
   ]
  },
  {
   "cell_type": "code",
   "execution_count": 59,
   "metadata": {
    "collapsed": false
   },
   "outputs": [],
   "source": [
    "for ind in xrange(len(instance_split)):\n",
    "    tmp = filter(lambda ele: ele !=\"\", instance_split[ind].split(\"<tdalign=\"))\n",
    "    #tmp = instance_split[ind]\n",
    "    for ele_ind in range(len(tmp)):\n",
    "        tmp[ele_ind]= re.sub(\"</td>.*\",\"\", re.sub(\".+\\\">\",\"\", tmp[ele_ind]))\n",
    "    instance_split[ind] = tmp"
   ]
  },
  {
   "cell_type": "code",
   "execution_count": 63,
   "metadata": {
    "collapsed": false
   },
   "outputs": [],
   "source": [
    "Total_Json_Doc = list()\n",
    "for group in instance_split[1:]:\n",
    "    json = dict()\n",
    "    json[\"city\"] = group[0]\n",
    "    json[\"latcir\"] = group[1]\n",
    "    json[\"latdot\"] = group[2]\n",
    "    json[\"lngcir\"] = group[3]\n",
    "    json[\"lngdot\"] = group[4]\n",
    "    json[\"time\"] = group[5]\n",
    "    Total_Json_Doc.append(json)"
   ]
  },
  {
   "cell_type": "code",
   "execution_count": 70,
   "metadata": {
    "collapsed": false
   },
   "outputs": [],
   "source": [
    "with open(\"HTML_to_Json.json\",\"w\") as f:\n",
    "    f.write(\"city_coord=\")\n",
    "    f.write(json.dumps(Total_Json_Doc))"
   ]
  },
  {
   "cell_type": "code",
   "execution_count": null,
   "metadata": {
    "collapsed": true
   },
   "outputs": [],
   "source": []
  },
  {
   "cell_type": "code",
   "execution_count": null,
   "metadata": {
    "collapsed": true
   },
   "outputs": [],
   "source": []
  }
 ],
 "metadata": {
  "kernelspec": {
   "display_name": "Python 2",
   "language": "python",
   "name": "python2"
  },
  "language_info": {
   "codemirror_mode": {
    "name": "ipython",
    "version": 2
   },
   "file_extension": ".py",
   "mimetype": "text/x-python",
   "name": "python",
   "nbconvert_exporter": "python",
   "pygments_lexer": "ipython2",
   "version": "2.7.12"
  }
 },
 "nbformat": 4,
 "nbformat_minor": 0
}
