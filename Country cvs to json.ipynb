{
 "cells": [
  {
   "cell_type": "code",
   "execution_count": 26,
   "metadata": {
    "collapsed": true
   },
   "outputs": [],
   "source": [
    "import pandas\n",
    "import numpy\n",
    "import re"
   ]
  },
  {
   "cell_type": "code",
   "execution_count": 7,
   "metadata": {
    "collapsed": false
   },
   "outputs": [],
   "source": [
    "country_table = pandas.read_csv(\"/Users/Rolina/Desktop/country_centroids/country_centroids_all.csv\", sep='\\t')"
   ]
  },
  {
   "cell_type": "code",
   "execution_count": 13,
   "metadata": {
    "collapsed": false
   },
   "outputs": [
    {
     "data": {
      "text/html": [
       "<div>\n",
       "<table border=\"1\" class=\"dataframe\">\n",
       "  <thead>\n",
       "    <tr style=\"text-align: right;\">\n",
       "      <th></th>\n",
       "      <th>LAT</th>\n",
       "      <th>LONG</th>\n",
       "      <th>DMS_LAT</th>\n",
       "      <th>DMS_LONG</th>\n",
       "      <th>MGRS</th>\n",
       "      <th>JOG</th>\n",
       "      <th>DSG</th>\n",
       "      <th>AFFIL</th>\n",
       "      <th>FIPS10</th>\n",
       "      <th>SHORT_NAME</th>\n",
       "      <th>FULL_NAME</th>\n",
       "      <th>MOD_DATE</th>\n",
       "      <th>ISO3136</th>\n",
       "    </tr>\n",
       "  </thead>\n",
       "  <tbody>\n",
       "    <tr>\n",
       "      <th>0</th>\n",
       "      <td>33.000000</td>\n",
       "      <td>66.0</td>\n",
       "      <td>330000</td>\n",
       "      <td>660000</td>\n",
       "      <td>42STB1970055286</td>\n",
       "      <td>NI42-09</td>\n",
       "      <td>PCLI</td>\n",
       "      <td>NaN</td>\n",
       "      <td>AF</td>\n",
       "      <td>Afghanistan</td>\n",
       "      <td>Islamic Republic of Afghanistan</td>\n",
       "      <td>2009-04-10</td>\n",
       "      <td>AF</td>\n",
       "    </tr>\n",
       "    <tr>\n",
       "      <th>1</th>\n",
       "      <td>41.000000</td>\n",
       "      <td>20.0</td>\n",
       "      <td>410000</td>\n",
       "      <td>200000</td>\n",
       "      <td>34TDL1589839239</td>\n",
       "      <td>NK34-08</td>\n",
       "      <td>PCLI</td>\n",
       "      <td>NaN</td>\n",
       "      <td>AL</td>\n",
       "      <td>Albania</td>\n",
       "      <td>Republic of Albania</td>\n",
       "      <td>2007-02-28</td>\n",
       "      <td>AL</td>\n",
       "    </tr>\n",
       "    <tr>\n",
       "      <th>2</th>\n",
       "      <td>28.000000</td>\n",
       "      <td>3.0</td>\n",
       "      <td>280000</td>\n",
       "      <td>30000</td>\n",
       "      <td>31REL0000097202</td>\n",
       "      <td>NH31-15</td>\n",
       "      <td>PCLI</td>\n",
       "      <td>NaN</td>\n",
       "      <td>AG</td>\n",
       "      <td>Algeria</td>\n",
       "      <td>People's Democratic Republic of Algeria</td>\n",
       "      <td>2011-03-03</td>\n",
       "      <td>DZ</td>\n",
       "    </tr>\n",
       "    <tr>\n",
       "      <th>3</th>\n",
       "      <td>-14.333333</td>\n",
       "      <td>-170.0</td>\n",
       "      <td>-142000</td>\n",
       "      <td>-1700000</td>\n",
       "      <td>1802701</td>\n",
       "      <td>NaN</td>\n",
       "      <td>PCLD</td>\n",
       "      <td>US</td>\n",
       "      <td>AS</td>\n",
       "      <td>American Samoa</td>\n",
       "      <td>Territory of American Samoa</td>\n",
       "      <td>1998-10-06</td>\n",
       "      <td>AS</td>\n",
       "    </tr>\n",
       "    <tr>\n",
       "      <th>4</th>\n",
       "      <td>42.500000</td>\n",
       "      <td>1.5</td>\n",
       "      <td>423000</td>\n",
       "      <td>13000</td>\n",
       "      <td>31TCH7675006383</td>\n",
       "      <td>NK31-04</td>\n",
       "      <td>PCLI</td>\n",
       "      <td>NaN</td>\n",
       "      <td>AN</td>\n",
       "      <td>Andorra</td>\n",
       "      <td>Principality of Andorra</td>\n",
       "      <td>2007-02-28</td>\n",
       "      <td>AD</td>\n",
       "    </tr>\n",
       "  </tbody>\n",
       "</table>\n",
       "</div>"
      ],
      "text/plain": [
       "         LAT   LONG  DMS_LAT  DMS_LONG             MGRS      JOG   DSG AFFIL  \\\n",
       "0  33.000000   66.0   330000    660000  42STB1970055286  NI42-09  PCLI   NaN   \n",
       "1  41.000000   20.0   410000    200000  34TDL1589839239  NK34-08  PCLI   NaN   \n",
       "2  28.000000    3.0   280000     30000  31REL0000097202  NH31-15  PCLI   NaN   \n",
       "3 -14.333333 -170.0  -142000  -1700000          1802701      NaN  PCLD    US   \n",
       "4  42.500000    1.5   423000     13000  31TCH7675006383  NK31-04  PCLI   NaN   \n",
       "\n",
       "  FIPS10      SHORT_NAME                                FULL_NAME    MOD_DATE  \\\n",
       "0     AF     Afghanistan          Islamic Republic of Afghanistan  2009-04-10   \n",
       "1     AL         Albania                      Republic of Albania  2007-02-28   \n",
       "2     AG         Algeria  People's Democratic Republic of Algeria  2011-03-03   \n",
       "3     AS  American Samoa              Territory of American Samoa  1998-10-06   \n",
       "4     AN         Andorra                  Principality of Andorra  2007-02-28   \n",
       "\n",
       "  ISO3136  \n",
       "0      AF  \n",
       "1      AL  \n",
       "2      DZ  \n",
       "3      AS  \n",
       "4      AD  "
      ]
     },
     "execution_count": 13,
     "metadata": {},
     "output_type": "execute_result"
    }
   ],
   "source": [
    "country_table.head()"
   ]
  },
  {
   "cell_type": "code",
   "execution_count": 30,
   "metadata": {
    "collapsed": false
   },
   "outputs": [],
   "source": [
    "total_dict = list()\n",
    "for ins in country_table.values.tolist():\n",
    "    tmp = dict()\n",
    "    tmp[\"lat\"] = ins[0]\n",
    "    tmp[\"lng\"] = ins[1]\n",
    "    tmp[\"Abb_loc\"] = ins[8]\n",
    "    tmp[\"loc\"] = re.sub(\" \",\"_\",ins[9])\n",
    "    tmp[\"full_name\"] = re.sub(\" \",\"_\",ins[10])\n",
    "    total_dict.append(tmp)"
   ]
  },
  {
   "cell_type": "code",
   "execution_count": 31,
   "metadata": {
    "collapsed": false
   },
   "outputs": [
    {
     "data": {
      "text/plain": [
       "[{'Abb_loc': 'AF',\n",
       "  'full_name': 'Islamic_Republic_of_Afghanistan',\n",
       "  'lat': 33.0,\n",
       "  'lng': 66.0,\n",
       "  'loc': 'Afghanistan'},\n",
       " {'Abb_loc': 'AL',\n",
       "  'full_name': 'Republic_of_Albania',\n",
       "  'lat': 41.0,\n",
       "  'lng': 20.0,\n",
       "  'loc': 'Albania'},\n",
       " {'Abb_loc': 'AG',\n",
       "  'full_name': \"People's_Democratic_Republic_of_Algeria\",\n",
       "  'lat': 28.0,\n",
       "  'lng': 3.0,\n",
       "  'loc': 'Algeria'},\n",
       " {'Abb_loc': 'AS',\n",
       "  'full_name': 'Territory_of_American_Samoa',\n",
       "  'lat': -14.333333300000001,\n",
       "  'lng': -170.0,\n",
       "  'loc': 'American_Samoa'},\n",
       " {'Abb_loc': 'AN',\n",
       "  'full_name': 'Principality_of_Andorra',\n",
       "  'lat': 42.5,\n",
       "  'lng': 1.5,\n",
       "  'loc': 'Andorra'}]"
      ]
     },
     "execution_count": 31,
     "metadata": {},
     "output_type": "execute_result"
    }
   ],
   "source": [
    "total_dict[:5]"
   ]
  },
  {
   "cell_type": "code",
   "execution_count": 32,
   "metadata": {
    "collapsed": true
   },
   "outputs": [],
   "source": [
    "import json\n",
    "with open(\"Coordofcountry.json\", \"w\") as f:\n",
    "    f.write(\"city_coord=\")\n",
    "    f.write(json.dumps(total_dict))"
   ]
  },
  {
   "cell_type": "code",
   "execution_count": null,
   "metadata": {
    "collapsed": true
   },
   "outputs": [],
   "source": []
  }
 ],
 "metadata": {
  "kernelspec": {
   "display_name": "Python 2",
   "language": "python",
   "name": "python2"
  },
  "language_info": {
   "codemirror_mode": {
    "name": "ipython",
    "version": 2
   },
   "file_extension": ".py",
   "mimetype": "text/x-python",
   "name": "python",
   "nbconvert_exporter": "python",
   "pygments_lexer": "ipython2",
   "version": "2.7.12"
  }
 },
 "nbformat": 4,
 "nbformat_minor": 0
}
